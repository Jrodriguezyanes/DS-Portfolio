{
 "cells": [
  {
   "cell_type": "code",
   "execution_count": 10,
   "metadata": {},
   "outputs": [],
   "source": [
    "import pandas as pd\n",
    "import numpy as np\n",
    "import matplotlib.pyplot as plt\n",
    "import seaborn as sns\n",
    "\n",
    "MAX_ROWS = 10\n",
    "pd.set_option('display.max_rows', MAX_ROWS)\n",
    "pd.set_option('display.max_columns', 200)\n",
    " \n",
    "sns.set_style(\"whitegrid\")\n",
    "sns.set_context(\"paper\")\n",
    "\n",
    "%matplotlib inline"
   ]
  },
  {
   "cell_type": "code",
   "execution_count": 11,
   "metadata": {},
   "outputs": [],
   "source": [
    "df = pd.read_csv(r'...\\Subte\\totales.csv',parse_dates=['FECHA','DESDE','HASTA'])"
   ]
  },
  {
   "cell_type": "code",
   "execution_count": 12,
   "metadata": {},
   "outputs": [
    {
     "data": {
      "text/html": [
       "<div>\n",
       "<style scoped>\n",
       "    .dataframe tbody tr th:only-of-type {\n",
       "        vertical-align: middle;\n",
       "    }\n",
       "\n",
       "    .dataframe tbody tr th {\n",
       "        vertical-align: top;\n",
       "    }\n",
       "\n",
       "    .dataframe thead th {\n",
       "        text-align: right;\n",
       "    }\n",
       "</style>\n",
       "<table border=\"1\" class=\"dataframe\">\n",
       "  <thead>\n",
       "    <tr style=\"text-align: right;\">\n",
       "      <th></th>\n",
       "      <th>FECHA</th>\n",
       "      <th>DESDE</th>\n",
       "      <th>HASTA</th>\n",
       "      <th>LINEA</th>\n",
       "      <th>ESTACION</th>\n",
       "      <th>TOTAL</th>\n",
       "    </tr>\n",
       "  </thead>\n",
       "  <tbody>\n",
       "    <tr>\n",
       "      <th>0</th>\n",
       "      <td>2015-01-01</td>\n",
       "      <td>2019-10-30 05:00:00</td>\n",
       "      <td>2019-10-30 05:15:00</td>\n",
       "      <td>LINEA_H</td>\n",
       "      <td>CASEROS</td>\n",
       "      <td>0.0</td>\n",
       "    </tr>\n",
       "    <tr>\n",
       "      <th>1</th>\n",
       "      <td>2015-01-01</td>\n",
       "      <td>2019-10-30 05:30:00</td>\n",
       "      <td>2019-10-30 05:45:00</td>\n",
       "      <td>LINEA_A</td>\n",
       "      <td>PLAZA MISERERE</td>\n",
       "      <td>0.0</td>\n",
       "    </tr>\n",
       "    <tr>\n",
       "      <th>2</th>\n",
       "      <td>2015-01-01</td>\n",
       "      <td>2019-10-30 05:30:00</td>\n",
       "      <td>2019-10-30 05:45:00</td>\n",
       "      <td>LINEA_D</td>\n",
       "      <td>CATEDRAL</td>\n",
       "      <td>0.0</td>\n",
       "    </tr>\n",
       "    <tr>\n",
       "      <th>3</th>\n",
       "      <td>2015-01-01</td>\n",
       "      <td>2019-10-30 05:30:00</td>\n",
       "      <td>2019-10-30 05:45:00</td>\n",
       "      <td>LINEA_D</td>\n",
       "      <td>CONGRESO DE TUCUMAN</td>\n",
       "      <td>0.0</td>\n",
       "    </tr>\n",
       "    <tr>\n",
       "      <th>4</th>\n",
       "      <td>2015-01-01</td>\n",
       "      <td>2019-10-30 06:00:00</td>\n",
       "      <td>2019-10-30 06:15:00</td>\n",
       "      <td>LINEA_C</td>\n",
       "      <td>INDEPENDENCIA</td>\n",
       "      <td>0.0</td>\n",
       "    </tr>\n",
       "    <tr>\n",
       "      <th>5</th>\n",
       "      <td>2015-01-01</td>\n",
       "      <td>2019-10-30 06:30:00</td>\n",
       "      <td>2019-10-30 06:45:00</td>\n",
       "      <td>LINEA_C</td>\n",
       "      <td>INDEPENDENCIA</td>\n",
       "      <td>0.0</td>\n",
       "    </tr>\n",
       "    <tr>\n",
       "      <th>6</th>\n",
       "      <td>2015-01-01</td>\n",
       "      <td>2019-10-30 06:30:00</td>\n",
       "      <td>2019-10-30 06:45:00</td>\n",
       "      <td>LINEA_D</td>\n",
       "      <td>CONGRESO DE TUCUMAN</td>\n",
       "      <td>0.0</td>\n",
       "    </tr>\n",
       "    <tr>\n",
       "      <th>7</th>\n",
       "      <td>2015-01-01</td>\n",
       "      <td>2019-10-30 06:45:00</td>\n",
       "      <td>2019-10-30 07:00:00</td>\n",
       "      <td>LINEA_C</td>\n",
       "      <td>SAN JUAN</td>\n",
       "      <td>1.0</td>\n",
       "    </tr>\n",
       "    <tr>\n",
       "      <th>8</th>\n",
       "      <td>2015-01-01</td>\n",
       "      <td>2019-10-30 06:45:00</td>\n",
       "      <td>2019-10-30 07:00:00</td>\n",
       "      <td>LINEA_E</td>\n",
       "      <td>AVENIDA LA PLATA</td>\n",
       "      <td>0.0</td>\n",
       "    </tr>\n",
       "    <tr>\n",
       "      <th>9</th>\n",
       "      <td>2015-01-01</td>\n",
       "      <td>2019-10-30 07:15:00</td>\n",
       "      <td>2019-10-30 07:30:00</td>\n",
       "      <td>LINEA_A</td>\n",
       "      <td>PLAZA MISERERE</td>\n",
       "      <td>0.0</td>\n",
       "    </tr>\n",
       "  </tbody>\n",
       "</table>\n",
       "</div>"
      ],
      "text/plain": [
       "       FECHA               DESDE               HASTA    LINEA  \\\n",
       "0 2015-01-01 2019-10-30 05:00:00 2019-10-30 05:15:00  LINEA_H   \n",
       "1 2015-01-01 2019-10-30 05:30:00 2019-10-30 05:45:00  LINEA_A   \n",
       "2 2015-01-01 2019-10-30 05:30:00 2019-10-30 05:45:00  LINEA_D   \n",
       "3 2015-01-01 2019-10-30 05:30:00 2019-10-30 05:45:00  LINEA_D   \n",
       "4 2015-01-01 2019-10-30 06:00:00 2019-10-30 06:15:00  LINEA_C   \n",
       "5 2015-01-01 2019-10-30 06:30:00 2019-10-30 06:45:00  LINEA_C   \n",
       "6 2015-01-01 2019-10-30 06:30:00 2019-10-30 06:45:00  LINEA_D   \n",
       "7 2015-01-01 2019-10-30 06:45:00 2019-10-30 07:00:00  LINEA_C   \n",
       "8 2015-01-01 2019-10-30 06:45:00 2019-10-30 07:00:00  LINEA_E   \n",
       "9 2015-01-01 2019-10-30 07:15:00 2019-10-30 07:30:00  LINEA_A   \n",
       "\n",
       "              ESTACION  TOTAL  \n",
       "0              CASEROS    0.0  \n",
       "1       PLAZA MISERERE    0.0  \n",
       "2             CATEDRAL    0.0  \n",
       "3  CONGRESO DE TUCUMAN    0.0  \n",
       "4        INDEPENDENCIA    0.0  \n",
       "5        INDEPENDENCIA    0.0  \n",
       "6  CONGRESO DE TUCUMAN    0.0  \n",
       "7             SAN JUAN    1.0  \n",
       "8     AVENIDA LA PLATA    0.0  \n",
       "9       PLAZA MISERERE    0.0  "
      ]
     },
     "execution_count": 12,
     "metadata": {},
     "output_type": "execute_result"
    }
   ],
   "source": [
    "df.head(10)"
   ]
  },
  {
   "cell_type": "code",
   "execution_count": 13,
   "metadata": {},
   "outputs": [],
   "source": [
    "df['year'] = df['FECHA'].apply(lambda row: row.year)\n",
    "df['month'] = df['FECHA'].apply(lambda row: row.month)\n",
    "df['wday'] = df['FECHA'].apply(lambda row: row.dayofweek)\n",
    "df['Dhour'] = df['DESDE'].apply(lambda row: row.hour)\n",
    "df['Hhour'] = df['HASTA'].apply(lambda row: row.hour)"
   ]
  },
  {
   "cell_type": "code",
   "execution_count": 14,
   "metadata": {},
   "outputs": [],
   "source": [
    "df['turno'] = 0"
   ]
  },
  {
   "cell_type": "code",
   "execution_count": 15,
   "metadata": {},
   "outputs": [],
   "source": [
    "df.loc[(df['Dhour']>=0)&(df['Hhour']<=7),'turno'] = 'Manana'\n",
    "df.loc[(df['Dhour']>=7)&(df['Hhour']<=12),'turno'] = 'Pico man'\n",
    "df.loc[(df['Dhour']>=12)&(df['Hhour']<=16),'turno'] = 'Tarde'\n",
    "df.loc[(df['Dhour']>=16)&(df['Hhour']<=20),'turno'] = 'Pico tarde'\n",
    "df.loc[(df['Dhour']>=20)&(df['Hhour']<=24),'turno'] = 'Noche'"
   ]
  },
  {
   "cell_type": "code",
   "execution_count": 16,
   "metadata": {},
   "outputs": [],
   "source": [
    "df = df.drop(['DESDE','HASTA','Dhour','Hhour'],axis=1)"
   ]
  },
  {
   "cell_type": "code",
   "execution_count": 17,
   "metadata": {},
   "outputs": [],
   "source": [
    "df['fare'] = 0"
   ]
  },
  {
   "cell_type": "code",
   "execution_count": 18,
   "metadata": {
    "scrolled": true
   },
   "outputs": [],
   "source": [
    "df.set_index('FECHA',inplace=True)"
   ]
  },
  {
   "cell_type": "code",
   "execution_count": 19,
   "metadata": {},
   "outputs": [],
   "source": [
    "df.loc['2014-01-01':'2014-02-28','fare'] = 3.5\n",
    "df.loc['2014-03-01':'2016-10-31','fare'] = 4.5\n",
    "df.loc['2016-11-01':'2018-07-31','fare']= 7.5\n",
    "df.loc['2018-08-01':'2018-10-31','fare'] = 12.5\n",
    "df.loc['2018-11-01':'2018-11-30','fare'] = 13.5\n",
    "df.loc['2018-12-01':'2018-12-31','fare'] = 14.5\n",
    "df.reset_index(inplace=True)\n",
    "\n"
   ]
  },
  {
   "cell_type": "code",
   "execution_count": 20,
   "metadata": {},
   "outputs": [
    {
     "data": {
      "text/html": [
       "<div>\n",
       "<style scoped>\n",
       "    .dataframe tbody tr th:only-of-type {\n",
       "        vertical-align: middle;\n",
       "    }\n",
       "\n",
       "    .dataframe tbody tr th {\n",
       "        vertical-align: top;\n",
       "    }\n",
       "\n",
       "    .dataframe thead th {\n",
       "        text-align: right;\n",
       "    }\n",
       "</style>\n",
       "<table border=\"1\" class=\"dataframe\">\n",
       "  <thead>\n",
       "    <tr style=\"text-align: right;\">\n",
       "      <th></th>\n",
       "      <th>FECHA</th>\n",
       "      <th>LINEA</th>\n",
       "      <th>ESTACION</th>\n",
       "      <th>TOTAL</th>\n",
       "      <th>year</th>\n",
       "      <th>month</th>\n",
       "      <th>wday</th>\n",
       "      <th>turno</th>\n",
       "      <th>fare</th>\n",
       "    </tr>\n",
       "  </thead>\n",
       "  <tbody>\n",
       "    <tr>\n",
       "      <th>0</th>\n",
       "      <td>2015-01-01</td>\n",
       "      <td>LINEA_H</td>\n",
       "      <td>CASEROS</td>\n",
       "      <td>0.0</td>\n",
       "      <td>2015</td>\n",
       "      <td>1</td>\n",
       "      <td>3</td>\n",
       "      <td>Manana</td>\n",
       "      <td>4.5</td>\n",
       "    </tr>\n",
       "    <tr>\n",
       "      <th>1</th>\n",
       "      <td>2015-01-01</td>\n",
       "      <td>LINEA_A</td>\n",
       "      <td>PLAZA MISERERE</td>\n",
       "      <td>0.0</td>\n",
       "      <td>2015</td>\n",
       "      <td>1</td>\n",
       "      <td>3</td>\n",
       "      <td>Manana</td>\n",
       "      <td>4.5</td>\n",
       "    </tr>\n",
       "    <tr>\n",
       "      <th>2</th>\n",
       "      <td>2015-01-01</td>\n",
       "      <td>LINEA_D</td>\n",
       "      <td>CATEDRAL</td>\n",
       "      <td>0.0</td>\n",
       "      <td>2015</td>\n",
       "      <td>1</td>\n",
       "      <td>3</td>\n",
       "      <td>Manana</td>\n",
       "      <td>4.5</td>\n",
       "    </tr>\n",
       "    <tr>\n",
       "      <th>3</th>\n",
       "      <td>2015-01-01</td>\n",
       "      <td>LINEA_D</td>\n",
       "      <td>CONGRESO DE TUCUMAN</td>\n",
       "      <td>0.0</td>\n",
       "      <td>2015</td>\n",
       "      <td>1</td>\n",
       "      <td>3</td>\n",
       "      <td>Manana</td>\n",
       "      <td>4.5</td>\n",
       "    </tr>\n",
       "    <tr>\n",
       "      <th>4</th>\n",
       "      <td>2015-01-01</td>\n",
       "      <td>LINEA_C</td>\n",
       "      <td>INDEPENDENCIA</td>\n",
       "      <td>0.0</td>\n",
       "      <td>2015</td>\n",
       "      <td>1</td>\n",
       "      <td>3</td>\n",
       "      <td>Manana</td>\n",
       "      <td>4.5</td>\n",
       "    </tr>\n",
       "    <tr>\n",
       "      <th>5</th>\n",
       "      <td>2015-01-01</td>\n",
       "      <td>LINEA_C</td>\n",
       "      <td>INDEPENDENCIA</td>\n",
       "      <td>0.0</td>\n",
       "      <td>2015</td>\n",
       "      <td>1</td>\n",
       "      <td>3</td>\n",
       "      <td>Manana</td>\n",
       "      <td>4.5</td>\n",
       "    </tr>\n",
       "    <tr>\n",
       "      <th>6</th>\n",
       "      <td>2015-01-01</td>\n",
       "      <td>LINEA_D</td>\n",
       "      <td>CONGRESO DE TUCUMAN</td>\n",
       "      <td>0.0</td>\n",
       "      <td>2015</td>\n",
       "      <td>1</td>\n",
       "      <td>3</td>\n",
       "      <td>Manana</td>\n",
       "      <td>4.5</td>\n",
       "    </tr>\n",
       "    <tr>\n",
       "      <th>7</th>\n",
       "      <td>2015-01-01</td>\n",
       "      <td>LINEA_C</td>\n",
       "      <td>SAN JUAN</td>\n",
       "      <td>1.0</td>\n",
       "      <td>2015</td>\n",
       "      <td>1</td>\n",
       "      <td>3</td>\n",
       "      <td>Manana</td>\n",
       "      <td>4.5</td>\n",
       "    </tr>\n",
       "    <tr>\n",
       "      <th>8</th>\n",
       "      <td>2015-01-01</td>\n",
       "      <td>LINEA_E</td>\n",
       "      <td>AVENIDA LA PLATA</td>\n",
       "      <td>0.0</td>\n",
       "      <td>2015</td>\n",
       "      <td>1</td>\n",
       "      <td>3</td>\n",
       "      <td>Manana</td>\n",
       "      <td>4.5</td>\n",
       "    </tr>\n",
       "    <tr>\n",
       "      <th>9</th>\n",
       "      <td>2015-01-01</td>\n",
       "      <td>LINEA_A</td>\n",
       "      <td>PLAZA MISERERE</td>\n",
       "      <td>0.0</td>\n",
       "      <td>2015</td>\n",
       "      <td>1</td>\n",
       "      <td>3</td>\n",
       "      <td>Pico man</td>\n",
       "      <td>4.5</td>\n",
       "    </tr>\n",
       "  </tbody>\n",
       "</table>\n",
       "</div>"
      ],
      "text/plain": [
       "       FECHA    LINEA             ESTACION  TOTAL  year  month  wday  \\\n",
       "0 2015-01-01  LINEA_H              CASEROS    0.0  2015      1     3   \n",
       "1 2015-01-01  LINEA_A       PLAZA MISERERE    0.0  2015      1     3   \n",
       "2 2015-01-01  LINEA_D             CATEDRAL    0.0  2015      1     3   \n",
       "3 2015-01-01  LINEA_D  CONGRESO DE TUCUMAN    0.0  2015      1     3   \n",
       "4 2015-01-01  LINEA_C        INDEPENDENCIA    0.0  2015      1     3   \n",
       "5 2015-01-01  LINEA_C        INDEPENDENCIA    0.0  2015      1     3   \n",
       "6 2015-01-01  LINEA_D  CONGRESO DE TUCUMAN    0.0  2015      1     3   \n",
       "7 2015-01-01  LINEA_C             SAN JUAN    1.0  2015      1     3   \n",
       "8 2015-01-01  LINEA_E     AVENIDA LA PLATA    0.0  2015      1     3   \n",
       "9 2015-01-01  LINEA_A       PLAZA MISERERE    0.0  2015      1     3   \n",
       "\n",
       "      turno  fare  \n",
       "0    Manana   4.5  \n",
       "1    Manana   4.5  \n",
       "2    Manana   4.5  \n",
       "3    Manana   4.5  \n",
       "4    Manana   4.5  \n",
       "5    Manana   4.5  \n",
       "6    Manana   4.5  \n",
       "7    Manana   4.5  \n",
       "8    Manana   4.5  \n",
       "9  Pico man   4.5  "
      ]
     },
     "execution_count": 20,
     "metadata": {},
     "output_type": "execute_result"
    }
   ],
   "source": [
    "df.head(10)"
   ]
  },
  {
   "cell_type": "markdown",
   "metadata": {},
   "source": [
    "En primer lugar, cargamos el dataset con los totales diarios y le asignamos las tarifas correspondientes a cada día"
   ]
  },
  {
   "cell_type": "markdown",
   "metadata": {},
   "source": [
    "## Análisis General"
   ]
  },
  {
   "cell_type": "code",
   "execution_count": 21,
   "metadata": {},
   "outputs": [
    {
     "data": {
      "text/html": [
       "<div>\n",
       "<style scoped>\n",
       "    .dataframe tbody tr th:only-of-type {\n",
       "        vertical-align: middle;\n",
       "    }\n",
       "\n",
       "    .dataframe tbody tr th {\n",
       "        vertical-align: top;\n",
       "    }\n",
       "\n",
       "    .dataframe thead th {\n",
       "        text-align: right;\n",
       "    }\n",
       "</style>\n",
       "<table border=\"1\" class=\"dataframe\">\n",
       "  <thead>\n",
       "    <tr style=\"text-align: right;\">\n",
       "      <th></th>\n",
       "      <th>TOTAL</th>\n",
       "      <th>year</th>\n",
       "      <th>month</th>\n",
       "      <th>wday</th>\n",
       "    </tr>\n",
       "    <tr>\n",
       "      <th>fare</th>\n",
       "      <th></th>\n",
       "      <th></th>\n",
       "      <th></th>\n",
       "      <th></th>\n",
       "    </tr>\n",
       "  </thead>\n",
       "  <tbody>\n",
       "    <tr>\n",
       "      <th>3.5</th>\n",
       "      <td>35148451.0</td>\n",
       "      <td>655832918</td>\n",
       "      <td>486532</td>\n",
       "      <td>934999</td>\n",
       "    </tr>\n",
       "    <tr>\n",
       "      <th>4.5</th>\n",
       "      <td>761943490.0</td>\n",
       "      <td>11081470250</td>\n",
       "      <td>36064327</td>\n",
       "      <td>16103422</td>\n",
       "    </tr>\n",
       "    <tr>\n",
       "      <th>7.5</th>\n",
       "      <td>588927607.0</td>\n",
       "      <td>7497533325</td>\n",
       "      <td>23131788</td>\n",
       "      <td>10936830</td>\n",
       "    </tr>\n",
       "    <tr>\n",
       "      <th>12.5</th>\n",
       "      <td>96372624.0</td>\n",
       "      <td>1060961482</td>\n",
       "      <td>4728156</td>\n",
       "      <td>1557866</td>\n",
       "    </tr>\n",
       "    <tr>\n",
       "      <th>13.5</th>\n",
       "      <td>30456231.0</td>\n",
       "      <td>354152946</td>\n",
       "      <td>1930467</td>\n",
       "      <td>513150</td>\n",
       "    </tr>\n",
       "    <tr>\n",
       "      <th>14.5</th>\n",
       "      <td>16380372.0</td>\n",
       "      <td>245233414</td>\n",
       "      <td>1458276</td>\n",
       "      <td>373036</td>\n",
       "    </tr>\n",
       "  </tbody>\n",
       "</table>\n",
       "</div>"
      ],
      "text/plain": [
       "            TOTAL         year     month      wday\n",
       "fare                                              \n",
       "3.5    35148451.0    655832918    486532    934999\n",
       "4.5   761943490.0  11081470250  36064327  16103422\n",
       "7.5   588927607.0   7497533325  23131788  10936830\n",
       "12.5   96372624.0   1060961482   4728156   1557866\n",
       "13.5   30456231.0    354152946   1930467    513150\n",
       "14.5   16380372.0    245233414   1458276    373036"
      ]
     },
     "execution_count": 21,
     "metadata": {},
     "output_type": "execute_result"
    }
   ],
   "source": [
    "df.groupby('fare').sum()"
   ]
  },
  {
   "cell_type": "code",
   "execution_count": 22,
   "metadata": {
    "scrolled": false
   },
   "outputs": [
    {
     "data": {
      "image/png": "[encoded data removed]",
      "text/plain": [
       "<Figure size 1080x360 with 1 Axes>"
      ]
     },
     "metadata": {
      "needs_background": "light"
     },
     "output_type": "display_data"
    }
   ],
   "source": [
    "fares = df.groupby('fare').sum()\n",
    "plt.figure(figsize=(15,5))\n",
    "plt.title('Total segun tarifa')\n",
    "sns.barplot(x=fares.index,y=fares['TOTAL'])\n",
    "plt.xlabel('Tarifa')\n",
    "plt.ylabel('Total')\n",
    "plt.show()"
   ]
  },
  {
   "cell_type": "code",
   "execution_count": 23,
   "metadata": {},
   "outputs": [
    {
     "data": {
      "image/png": "[encoded data removed]",
      "text/plain": [
       "<Figure size 1080x360 with 1 Axes>"
      ]
     },
     "metadata": {
      "needs_background": "light"
     },
     "output_type": "display_data"
    }
   ],
   "source": [
    "year = df.groupby('year').sum()\n",
    "plt.figure(figsize=(15,5))\n",
    "plt.title('Total por año')\n",
    "sns.barplot(x=year.index,y=year['TOTAL'])\n",
    "plt.xlabel('Año')\n",
    "plt.ylabel('Total')\n",
    "plt.show()"
   ]
  },
  {
   "cell_type": "code",
   "execution_count": 24,
   "metadata": {},
   "outputs": [
    {
     "data": {
      "image/png": "[encoded data removed]",
      "text/plain": [
       "<Figure size 1080x360 with 1 Axes>"
      ]
     },
     "metadata": {
      "needs_background": "light"
     },
     "output_type": "display_data"
    }
   ],
   "source": [
    "mes = df.groupby('month').sum()\n",
    "plt.figure(figsize=(15,5))\n",
    "plt.title('Meses')\n",
    "sns.barplot(x=mes.index,y=mes['TOTAL'])\n",
    "plt.xlabel('Mes')\n",
    "plt.ylabel('Total')\n",
    "plt.show()"
   ]
  },
  {
   "cell_type": "code",
   "execution_count": 25,
   "metadata": {},
   "outputs": [
    {
     "data": {
      "image/png": "[encoded data removed]",
      "text/plain": [
       "<Figure size 1080x360 with 1 Axes>"
      ]
     },
     "metadata": {
      "needs_background": "light"
     },
     "output_type": "display_data"
    }
   ],
   "source": [
    "dayorder = [ 'Lunes', 'Martes', 'Miercoles', 'Jueves', 'Viernes', 'Sabado','Domingo']\n",
    "day = df.groupby('wday').sum()\n",
    "plt.figure(figsize=(15,5))\n",
    "plt.title('Total por dia')\n",
    "ax =sns.barplot(x=day.index,y=day['TOTAL'])\n",
    "plt.xlabel('Dia')\n",
    "ax.set_xticklabels(dayorder)\n",
    "plt.ylabel('Total')\n",
    "plt.show()"
   ]
  },
  {
   "cell_type": "code",
   "execution_count": 26,
   "metadata": {},
   "outputs": [
    {
     "data": {
      "image/png": "[encoded data removed]",
      "text/plain": [
       "<Figure size 1080x360 with 1 Axes>"
      ]
     },
     "metadata": {
      "needs_background": "light"
     },
     "output_type": "display_data"
    }
   ],
   "source": [
    "turno = df.groupby('turno').sum()\n",
    "plt.figure(figsize=(15,5))\n",
    "plt.title('Total por turno')\n",
    "ax =sns.barplot(x=turno.index,y=turno['TOTAL'])\n",
    "plt.xlabel('Turno')\n",
    "plt.ylabel('Total')\n",
    "plt.show()"
   ]
  },
  {
   "cell_type": "markdown",
   "metadata": {},
   "source": [
    "### Luego de tener una idea general sobre los números (anuales, mensuales, diarios, turnos y por tarifa) continuaremos por limpiar los datos respecto a las diversas líneas y estaciones del subte para analizarlos posteriormente"
   ]
  },
  {
   "cell_type": "markdown",
   "metadata": {},
   "source": [
    "Ajustamos las líneas a un valor único en cada una"
   ]
  },
  {
   "cell_type": "code",
   "execution_count": 27,
   "metadata": {},
   "outputs": [],
   "source": [
    "df.replace({'LINEA_A':'A','LineaA':'A','LINEA_B':'B','LineaB':'B','LINEA_C':'C','LineaC':'C','LINEA_D':'D','LineaD':'D','LINEA_E':'E','LineaE':'E','LINEA_H':'H','LineaH':'H'},inplace=True)"
   ]
  },
  {
   "cell_type": "code",
   "execution_count": 28,
   "metadata": {},
   "outputs": [
    {
     "data": {
      "text/plain": [
       "array(['H', 'A', 'D', 'C', 'E', 'B', 'TALLER/PRUEBAS'], dtype=object)"
      ]
     },
     "execution_count": 28,
     "metadata": {},
     "output_type": "execute_result"
    }
   ],
   "source": [
    "df['LINEA'].unique()"
   ]
  },
  {
   "cell_type": "markdown",
   "metadata": {},
   "source": [
    "Ahora evaluaremos los nombres de las estaciones, quitando asi los caracteres y unificando un valor único por cada estación"
   ]
  },
  {
   "cell_type": "code",
   "execution_count": 29,
   "metadata": {},
   "outputs": [
    {
     "data": {
      "text/plain": [
       "array(['CASEROS', 'PLAZA MISERERE', 'CATEDRAL', 'CONGRESO DE TUCUMAN',\n",
       "       'INDEPENDENCIA', 'SAN JUAN', 'AVENIDA LA PLATA', 'CONSTITUCION',\n",
       "       'CONGRESO', 'PUAN', 'MARIANO MORENO', 'CALLAO',\n",
       "       'MINISTRO CARRANZA', 'BOEDO', 'VARELA', 'CORRIENTES', 'ALBERTI',\n",
       "       'CARABOBO', 'FLORES', 'PLAZA DE MAYO', 'AVENIDA DE MAYO',\n",
       "       'GENERAL SAN MARTIN', 'RETIRO', '9 DE JULIO', 'BULNES',\n",
       "       'FACULTAD DE MEDICINA', 'JOSE HERNANDEZ', 'JURAMENTO', 'OLLEROS',\n",
       "       'PALERMO', 'ENTRE RIOS', 'JOSE MARIA MORENO', 'JUJUY',\n",
       "       'PZA. DE LOS VIRREYES', 'SAN JOSE', 'HOSPITALES', 'ONCE',\n",
       "       'VENEZUELA', 'ACOYTE', 'CASTRO BARROS', 'LIMA', 'LORIA', 'PASCO',\n",
       "       'PIEDRAS', 'PRIMERA JUNTA', 'RIO DE JANEIRO', 'SAENZ PEÑA',\n",
       "       'SAN PEDRITO', 'DIAGONAL NORTE', 'LAVALLE', 'PLAZA ITALIA',\n",
       "       'PUEYRREDON.D', 'SCALABRINI ORTIZ', 'BOLIVAR', 'EMILIO MITRE',\n",
       "       'GENERAL BELGRANO', 'HUMBERTO I', 'INCLAN', 'PERU', 'AGUERO',\n",
       "       'TRIBUNALES', 'INDEPENDENCIA.H', 'MEDALLA MILAGROSA', 'URQUIZA',\n",
       "       'PATRICIOS', 'PICHINCHA', 'FLORIDA', 'ROSAS', 'FEDERICO LACROZE',\n",
       "       'CARLOS GARDEL', 'CALLAO.B', 'DORREGO', 'ANGEL GALLARDO',\n",
       "       'ECHEVERRIA', 'LEANDRO N. ALEM', 'LOS INCAS', 'MEDRANO', 'PASTEUR',\n",
       "       'PUEYRREDON', 'URUGUAY', 'CARLOS PELLEGRINI', 'MALABIA',\n",
       "       'TRONADOR', 'Acoyte', 'Carabobo', 'Castro Barros', 'Congreso',\n",
       "       'Flores', 'Lima', 'Loria', 'Pasco', 'Peru', 'Piedras',\n",
       "       'Plaza Miserere', 'Plaza de Mayo', 'Primera Junta', 'Puan',\n",
       "       'Rio de Janeiro', 'Saenz Peña ', 'San Pedrito', 'Angel Gallardo',\n",
       "       'Callao.B', 'Carlos Gardel', 'Carlos Pellegrini', 'Dorrego',\n",
       "       'Echeverria', 'Federico Lacroze', 'Florida', 'Leandro N. Alem',\n",
       "       'Los Incas', 'Malabia', 'Medrano', 'Pasteur', 'Pueyrredon',\n",
       "       'Rosas', 'Tronador', 'Uruguay', 'Avenida de Mayo', 'Constitucion',\n",
       "       'Diagonal Norte', 'General San Martin', 'Independencia', 'Lavalle',\n",
       "       'Mariano Moreno', 'Retiro', 'San Juan', '9 de julio', 'Agüero',\n",
       "       'Bulnes', 'Callao', 'Catedral', 'Congreso de Tucuman',\n",
       "       'Facultad de Medicina', 'Jose Hernandez', 'Juramento',\n",
       "       'Ministro Carranza', 'Olleros', 'Palermo', 'Plaza Italia',\n",
       "       'Pueyrredon.D', 'Scalabrini Ortiz', 'Tribunales',\n",
       "       'Avenida La Plata', 'Boedo', 'Bolivar', 'Emilio Mitre',\n",
       "       'Independencia.H', 'Jose Maria Moreno', 'Jujuy',\n",
       "       'Medalla Milagrosa', 'Pichincha', 'Pza. de los Virreyes',\n",
       "       'San Jose', 'Urquiza', 'Varela', 'Caseros', 'Corrientes',\n",
       "       'Hospitales', 'Humberto I', 'Inclan', 'Once', 'Patricios',\n",
       "       'Venezuela', 'Alberti', 'Entre Rios', 'General Belgrano',\n",
       "       'LAS HERAS', 'CORDOBA', 'SANTA FE', 'TALLER BONIFACIO',\n",
       "       'SAENZ PEÃ\\x83Â\\x83Ã\\x82Â\\x83Ã\\x83Â\\x82Ã\\x82Â\\x83Ã\\x83Â\\x83Ã\\x82Â\\x82Ã\\x83Â\\x82Ã\\x82Â\\x83Ã\\x83Â\\x83Ã\\x82Â\\x83Ã\\x83Â\\x82Ã\\x82Â\\x82Ã\\x83Â\\x83Ã\\x82Â\\x82Ã\\x83Â\\x82Ã\\x82Â\\x91A',\n",
       "       'Saenz PeÃ\\x83Â\\x83Ã\\x82Â\\x83Ã\\x83Â\\x82Ã\\x82Â\\x83Ã\\x83Â\\x83Ã\\x82Â\\x82Ã\\x83Â\\x82Ã\\x82Â\\x83Ã\\x83Â\\x83Ã\\x82Â\\x83Ã\\x83Â\\x82Ã\\x82Â\\x82Ã\\x83Â\\x83Ã\\x82Â\\x82Ã\\x83Â\\x82Ã\\x82Â±a ',\n",
       "       'AgÃ\\x83Â\\x83Ã\\x82Â\\x83Ã\\x83Â\\x82Ã\\x82Â\\x83Ã\\x83Â\\x83Ã\\x82Â\\x82Ã\\x83Â\\x82Ã\\x82Â\\x83Ã\\x83Â\\x83Ã\\x82Â\\x83Ã\\x83Â\\x82Ã\\x82Â\\x82Ã\\x83Â\\x83Ã\\x82Â\\x82Ã\\x83Â\\x82Ã\\x82Â¼ero',\n",
       "       'Cordoba', 'Las Heras', 'Santa Fe',\n",
       "       'Saenz PeÃ\\x83Â\\x83Ã\\x82Â\\x83Ã\\x83Â\\x82Ã\\x82Â\\x83Ã\\x83Â\\x83Ã\\x82Â\\x82Ã\\x83Â\\x82Ã\\x82Â±a ',\n",
       "       'AgÃ\\x83Â\\x83Ã\\x82Â\\x83Ã\\x83Â\\x82Ã\\x82Â\\x83Ã\\x83Â\\x83Ã\\x82Â\\x82Ã\\x83Â\\x82Ã\\x82Â¼ero',\n",
       "       'Facultad de Derecho', 'AgÃ\\x83Â\\x83Ã\\x82Â¼ero',\n",
       "       'Saenz PeÃ\\x83Â\\x83Ã\\x82Â±a ', 'Saenz PeÃ±a ', 'AgÃ¼ero',\n",
       "       'Saenz PeÃ\\x83Â±a ', 'AgÃ\\x83Â¼ero', 'Aguero', 'Callao.',\n",
       "       'Pueyrredon.', 'Independencia.', 'Saenz Peña'], dtype=object)"
      ]
     },
     "execution_count": 29,
     "metadata": {},
     "output_type": "execute_result"
    }
   ],
   "source": [
    "df['ESTACION'].unique()"
   ]
  },
  {
   "cell_type": "code",
   "execution_count": 42,
   "metadata": {},
   "outputs": [],
   "source": [
    "df['ESTACION']=df['ESTACION'].apply(lambda row: str.upper(row))#limpiando valores en minuscula\n",
    "df['ESTACION']=df['ESTACION'].apply(lambda row: str.strip(row))#limpiando valores con espacios en los bordes del valor\n",
    "\n"
   ]
  },
  {
   "cell_type": "code",
   "execution_count": 45,
   "metadata": {},
   "outputs": [],
   "source": [
    "sp=df[df['LINEA']=='A']['ESTACION'].unique() #Limpiando los valores rotos especificamente de la linea A"
   ]
  },
  {
   "cell_type": "code",
   "execution_count": 46,
   "metadata": {
    "scrolled": true
   },
   "outputs": [
    {
     "data": {
      "text/plain": [
       "array(['PLAZA MISERERE', 'CONGRESO', 'PUAN', 'ALBERTI', 'CARABOBO',\n",
       "       'FLORES', 'PLAZA DE MAYO', 'ACOYTE', 'CASTRO BARROS', 'LIMA',\n",
       "       'LORIA', 'PASCO', 'PIEDRAS', 'PRIMERA JUNTA', 'RIO DE JANEIRO',\n",
       "       'SAENZ PEÑA', 'SAN PEDRITO', 'PERU',\n",
       "       'SAENZ PEÃ\\x83Â\\x83Ã\\x82Â\\x83Ã\\x83Â\\x82Ã\\x82Â\\x83Ã\\x83Â\\x83Ã\\x82Â\\x82Ã\\x83Â\\x82Ã\\x82Â\\x83Ã\\x83Â\\x83Ã\\x82Â\\x83Ã\\x83Â\\x82Ã\\x82Â\\x82Ã\\x83Â\\x83Ã\\x82Â\\x82Ã\\x83Â\\x82Ã\\x82Â\\x91A',\n",
       "       'SAENZ PEÃ\\x83Â\\x83Ã\\x82Â\\x83Ã\\x83Â\\x82Ã\\x82Â\\x83Ã\\x83Â\\x83Ã\\x82Â\\x82Ã\\x83Â\\x82Ã\\x82Â\\x83Ã\\x83Â\\x83Ã\\x82Â\\x83Ã\\x83Â\\x82Ã\\x82Â\\x82Ã\\x83Â\\x83Ã\\x82Â\\x82Ã\\x83Â\\x82Ã\\x82Â±A',\n",
       "       'SAENZ PEÃ\\x83Â\\x83Ã\\x82Â\\x83Ã\\x83Â\\x82Ã\\x82Â\\x83Ã\\x83Â\\x83Ã\\x82Â\\x82Ã\\x83Â\\x82Ã\\x82Â±A',\n",
       "       'SAENZ PEÃ\\x83Â\\x83Ã\\x82Â±A', 'SAENZ PEÃ±A', 'SAENZ PEÃ\\x83Â±A'],\n",
       "      dtype=object)"
      ]
     },
     "execution_count": 46,
     "metadata": {},
     "output_type": "execute_result"
    }
   ],
   "source": [
    "sp"
   ]
  },
  {
   "cell_type": "code",
   "execution_count": 47,
   "metadata": {},
   "outputs": [],
   "source": [
    "sp=sp[18:24]"
   ]
  },
  {
   "cell_type": "code",
   "execution_count": 48,
   "metadata": {},
   "outputs": [
    {
     "data": {
      "text/plain": [
       "array(['SAENZ PEÃ\\x83Â\\x83Ã\\x82Â\\x83Ã\\x83Â\\x82Ã\\x82Â\\x83Ã\\x83Â\\x83Ã\\x82Â\\x82Ã\\x83Â\\x82Ã\\x82Â\\x83Ã\\x83Â\\x83Ã\\x82Â\\x83Ã\\x83Â\\x82Ã\\x82Â\\x82Ã\\x83Â\\x83Ã\\x82Â\\x82Ã\\x83Â\\x82Ã\\x82Â\\x91A',\n",
       "       'SAENZ PEÃ\\x83Â\\x83Ã\\x82Â\\x83Ã\\x83Â\\x82Ã\\x82Â\\x83Ã\\x83Â\\x83Ã\\x82Â\\x82Ã\\x83Â\\x82Ã\\x82Â\\x83Ã\\x83Â\\x83Ã\\x82Â\\x83Ã\\x83Â\\x82Ã\\x82Â\\x82Ã\\x83Â\\x83Ã\\x82Â\\x82Ã\\x83Â\\x82Ã\\x82Â±A',\n",
       "       'SAENZ PEÃ\\x83Â\\x83Ã\\x82Â\\x83Ã\\x83Â\\x82Ã\\x82Â\\x83Ã\\x83Â\\x83Ã\\x82Â\\x82Ã\\x83Â\\x82Ã\\x82Â±A',\n",
       "       'SAENZ PEÃ\\x83Â\\x83Ã\\x82Â±A', 'SAENZ PEÃ±A', 'SAENZ PEÃ\\x83Â±A'],\n",
       "      dtype=object)"
      ]
     },
     "execution_count": 48,
     "metadata": {},
     "output_type": "execute_result"
    }
   ],
   "source": [
    "sp"
   ]
  },
  {
   "cell_type": "code",
   "execution_count": 49,
   "metadata": {},
   "outputs": [],
   "source": [
    "dsp = {}\n",
    "for i in sp:\n",
    "    dsp[i]='SAENZ PEÑA'#creamos un diccionario con {Valor a remplazar:valor remplazado}\n",
    "    "
   ]
  },
  {
   "cell_type": "code",
   "execution_count": 51,
   "metadata": {},
   "outputs": [
    {
     "data": {
      "text/plain": [
       "{'SAENZ PEÃ\\x83Â\\x83Ã\\x82Â\\x83Ã\\x83Â\\x82Ã\\x82Â\\x83Ã\\x83Â\\x83Ã\\x82Â\\x82Ã\\x83Â\\x82Ã\\x82Â\\x83Ã\\x83Â\\x83Ã\\x82Â\\x83Ã\\x83Â\\x82Ã\\x82Â\\x82Ã\\x83Â\\x83Ã\\x82Â\\x82Ã\\x83Â\\x82Ã\\x82Â\\x91A': 'SAENZ PEÑA',\n",
       " 'SAENZ PEÃ\\x83Â\\x83Ã\\x82Â\\x83Ã\\x83Â\\x82Ã\\x82Â\\x83Ã\\x83Â\\x83Ã\\x82Â\\x82Ã\\x83Â\\x82Ã\\x82Â\\x83Ã\\x83Â\\x83Ã\\x82Â\\x83Ã\\x83Â\\x82Ã\\x82Â\\x82Ã\\x83Â\\x83Ã\\x82Â\\x82Ã\\x83Â\\x82Ã\\x82Â±A': 'SAENZ PEÑA',\n",
       " 'SAENZ PEÃ\\x83Â\\x83Ã\\x82Â\\x83Ã\\x83Â\\x82Ã\\x82Â\\x83Ã\\x83Â\\x83Ã\\x82Â\\x82Ã\\x83Â\\x82Ã\\x82Â±A': 'SAENZ PEÑA',\n",
       " 'SAENZ PEÃ\\x83Â\\x83Ã\\x82Â±A': 'SAENZ PEÑA',\n",
       " 'SAENZ PEÃ±A': 'SAENZ PEÑA',\n",
       " 'SAENZ PEÃ\\x83Â±A': 'SAENZ PEÑA'}"
      ]
     },
     "execution_count": 51,
     "metadata": {},
     "output_type": "execute_result"
    }
   ],
   "source": [
    "dsp"
   ]
  },
  {
   "cell_type": "code",
   "execution_count": 52,
   "metadata": {},
   "outputs": [],
   "source": [
    "df['ESTACION'].replace(dsp,inplace=True)"
   ]
  },
  {
   "cell_type": "code",
   "execution_count": 53,
   "metadata": {},
   "outputs": [
    {
     "data": {
      "text/plain": [
       "array(['CASEROS', 'PLAZA MISERERE', 'CATEDRAL', 'CONGRESO DE TUCUMAN',\n",
       "       'INDEPENDENCIA', 'SAN JUAN', 'AVENIDA LA PLATA', 'CONSTITUCION',\n",
       "       'CONGRESO', 'PUAN', 'MARIANO MORENO', 'CALLAO',\n",
       "       'MINISTRO CARRANZA', 'BOEDO', 'VARELA', 'CORRIENTES', 'ALBERTI',\n",
       "       'CARABOBO', 'FLORES', 'PLAZA DE MAYO', 'AVENIDA DE MAYO',\n",
       "       'GENERAL SAN MARTIN', 'RETIRO', '9 DE JULIO', 'BULNES',\n",
       "       'FACULTAD DE MEDICINA', 'JOSE HERNANDEZ', 'JURAMENTO', 'OLLEROS',\n",
       "       'PALERMO', 'ENTRE RIOS', 'JOSE MARIA MORENO', 'JUJUY',\n",
       "       'PZA. DE LOS VIRREYES', 'SAN JOSE', 'HOSPITALES', 'ONCE',\n",
       "       'VENEZUELA', 'ACOYTE', 'CASTRO BARROS', 'LIMA', 'LORIA', 'PASCO',\n",
       "       'PIEDRAS', 'PRIMERA JUNTA', 'RIO DE JANEIRO', 'SAENZ PEÑA',\n",
       "       'SAN PEDRITO', 'DIAGONAL NORTE', 'LAVALLE', 'PLAZA ITALIA',\n",
       "       'PUEYRREDON.D', 'SCALABRINI ORTIZ', 'BOLIVAR', 'EMILIO MITRE',\n",
       "       'GENERAL BELGRANO', 'HUMBERTO I', 'INCLAN', 'PERU', 'AGUERO',\n",
       "       'TRIBUNALES', 'INDEPENDENCIA.H', 'MEDALLA MILAGROSA', 'URQUIZA',\n",
       "       'PATRICIOS', 'PICHINCHA', 'FLORIDA', 'ROSAS', 'FEDERICO LACROZE',\n",
       "       'CARLOS GARDEL', 'CALLAO.B', 'DORREGO', 'ANGEL GALLARDO',\n",
       "       'ECHEVERRIA', 'LEANDRO N. ALEM', 'LOS INCAS', 'MEDRANO', 'PASTEUR',\n",
       "       'PUEYRREDON', 'URUGUAY', 'CARLOS PELLEGRINI', 'MALABIA',\n",
       "       'TRONADOR', 'AGÜERO', 'LAS HERAS', 'CORDOBA', 'SANTA FE',\n",
       "       'TALLER BONIFACIO',\n",
       "       'AGÃ\\x83Â\\x83Ã\\x82Â\\x83Ã\\x83Â\\x82Ã\\x82Â\\x83Ã\\x83Â\\x83Ã\\x82Â\\x82Ã\\x83Â\\x82Ã\\x82Â\\x83Ã\\x83Â\\x83Ã\\x82Â\\x83Ã\\x83Â\\x82Ã\\x82Â\\x82Ã\\x83Â\\x83Ã\\x82Â\\x82Ã\\x83Â\\x82Ã\\x82Â¼ERO',\n",
       "       'AGÃ\\x83Â\\x83Ã\\x82Â\\x83Ã\\x83Â\\x82Ã\\x82Â\\x83Ã\\x83Â\\x83Ã\\x82Â\\x82Ã\\x83Â\\x82Ã\\x82Â¼ERO',\n",
       "       'FACULTAD DE DERECHO', 'AGÃ\\x83Â\\x83Ã\\x82Â¼ERO', 'AGÃ¼ERO',\n",
       "       'AGÃ\\x83Â¼ERO', 'CALLAO.', 'PUEYRREDON.', 'INDEPENDENCIA.'],\n",
       "      dtype=object)"
      ]
     },
     "execution_count": 53,
     "metadata": {},
     "output_type": "execute_result"
    }
   ],
   "source": [
    "df['ESTACION'].unique()"
   ]
  },
  {
   "cell_type": "code",
   "execution_count": 54,
   "metadata": {},
   "outputs": [],
   "source": [
    "ag=df[df['LINEA']=='D']['ESTACION'].unique()#mismo procedimiento de arriba con estacion Aguero"
   ]
  },
  {
   "cell_type": "code",
   "execution_count": 55,
   "metadata": {},
   "outputs": [],
   "source": [
    "ag=ag[16:22]"
   ]
  },
  {
   "cell_type": "code",
   "execution_count": 56,
   "metadata": {},
   "outputs": [],
   "source": [
    "dsp = {}\n",
    "for i in ag:\n",
    "    dsp[i]='AGUERO'"
   ]
  },
  {
   "cell_type": "code",
   "execution_count": 57,
   "metadata": {},
   "outputs": [],
   "source": [
    "df['ESTACION'].replace(dsp,inplace=True)"
   ]
  },
  {
   "cell_type": "code",
   "execution_count": 58,
   "metadata": {
    "scrolled": true
   },
   "outputs": [
    {
     "data": {
      "text/plain": [
       "array(['CASEROS', 'PLAZA MISERERE', 'CATEDRAL', 'CONGRESO DE TUCUMAN',\n",
       "       'INDEPENDENCIA', 'SAN JUAN', 'AVENIDA LA PLATA', 'CONSTITUCION',\n",
       "       'CONGRESO', 'PUAN', 'MARIANO MORENO', 'CALLAO',\n",
       "       'MINISTRO CARRANZA', 'BOEDO', 'VARELA', 'CORRIENTES', 'ALBERTI',\n",
       "       'CARABOBO', 'FLORES', 'PLAZA DE MAYO', 'AVENIDA DE MAYO',\n",
       "       'GENERAL SAN MARTIN', 'RETIRO', '9 DE JULIO', 'BULNES',\n",
       "       'FACULTAD DE MEDICINA', 'JOSE HERNANDEZ', 'JURAMENTO', 'OLLEROS',\n",
       "       'PALERMO', 'ENTRE RIOS', 'JOSE MARIA MORENO', 'JUJUY',\n",
       "       'PZA. DE LOS VIRREYES', 'SAN JOSE', 'HOSPITALES', 'ONCE',\n",
       "       'VENEZUELA', 'ACOYTE', 'CASTRO BARROS', 'LIMA', 'LORIA', 'PASCO',\n",
       "       'PIEDRAS', 'PRIMERA JUNTA', 'RIO DE JANEIRO', 'SAENZ PEÑA',\n",
       "       'SAN PEDRITO', 'DIAGONAL NORTE', 'LAVALLE', 'PLAZA ITALIA',\n",
       "       'PUEYRREDON.D', 'SCALABRINI ORTIZ', 'BOLIVAR', 'EMILIO MITRE',\n",
       "       'GENERAL BELGRANO', 'HUMBERTO I', 'INCLAN', 'PERU', 'AGUERO',\n",
       "       'TRIBUNALES', 'INDEPENDENCIA.H', 'MEDALLA MILAGROSA', 'URQUIZA',\n",
       "       'PATRICIOS', 'PICHINCHA', 'FLORIDA', 'ROSAS', 'FEDERICO LACROZE',\n",
       "       'CARLOS GARDEL', 'CALLAO.B', 'DORREGO', 'ANGEL GALLARDO',\n",
       "       'ECHEVERRIA', 'LEANDRO N. ALEM', 'LOS INCAS', 'MEDRANO', 'PASTEUR',\n",
       "       'PUEYRREDON', 'URUGUAY', 'CARLOS PELLEGRINI', 'MALABIA',\n",
       "       'TRONADOR', 'LAS HERAS', 'CORDOBA', 'SANTA FE', 'TALLER BONIFACIO',\n",
       "       'FACULTAD DE DERECHO', 'CALLAO.', 'PUEYRREDON.', 'INDEPENDENCIA.'],\n",
       "      dtype=object)"
      ]
     },
     "execution_count": 58,
     "metadata": {},
     "output_type": "execute_result"
    }
   ],
   "source": [
    "df['ESTACION'].unique()"
   ]
  },
  {
   "cell_type": "markdown",
   "metadata": {},
   "source": [
    "Ahora evaluaremos las cantidades de estaciones por línea"
   ]
  },
  {
   "cell_type": "code",
   "execution_count": 59,
   "metadata": {
    "scrolled": true
   },
   "outputs": [
    {
     "name": "stdout",
     "output_type": "stream",
     "text": [
      "(18,)  A\n",
      "(18,)  B\n",
      "(9,)  C\n",
      "(18,)  D\n",
      "(16,)  E\n",
      "(12,)  H\n"
     ]
    }
   ],
   "source": [
    "print(df[df['LINEA']=='A']['ESTACION'].unique().shape,' A')\n",
    "print(df[df['LINEA']=='B']['ESTACION'].unique().shape,' B')\n",
    "print(df[df['LINEA']=='C']['ESTACION'].unique().shape,' C')\n",
    "print(df[df['LINEA']=='D']['ESTACION'].unique().shape,' D')\n",
    "print(df[df['LINEA']=='E']['ESTACION'].unique().shape,' E')\n",
    "print(df[df['LINEA']=='H']['ESTACION'].unique().shape,' H')"
   ]
  },
  {
   "cell_type": "markdown",
   "metadata": {},
   "source": [
    "Observamos que las líneas B,D y E tienen valores superiores. Revisaremos cada caso a continuación y unificaremos los valores"
   ]
  },
  {
   "cell_type": "code",
   "execution_count": 60,
   "metadata": {},
   "outputs": [],
   "source": [
    "df_a = df[df['LINEA']=='A']\n",
    "df_b= df[df['LINEA']=='B']\n",
    "df_c= df[df['LINEA']=='C']\n",
    "df_d= df[df['LINEA']=='D']\n",
    "df_e= df[df['LINEA']=='E']\n",
    "df_h= df[df['LINEA']=='H']"
   ]
  },
  {
   "cell_type": "code",
   "execution_count": 61,
   "metadata": {},
   "outputs": [
    {
     "name": "stderr",
     "output_type": "stream",
     "text": [
      "C:\\ProgramData\\Anaconda3\\lib\\site-packages\\pandas\\core\\generic.py:5890: SettingWithCopyWarning: \n",
      "A value is trying to be set on a copy of a slice from a DataFrame\n",
      "\n",
      "See the caveats in the documentation: http://pandas.pydata.org/pandas-docs/stable/indexing.html#indexing-view-versus-copy\n",
      "  self._update_inplace(new_data)\n"
     ]
    }
   ],
   "source": [
    "df_b['ESTACION'].replace({'CALLAO':'CALLAO.B'},inplace=True)"
   ]
  },
  {
   "cell_type": "code",
   "execution_count": 62,
   "metadata": {},
   "outputs": [],
   "source": [
    "df_d['ESTACION'].replace({'CALLAO.':'CALLAO','PUEYRREDON.':'PUEYRREDON.D'},inplace=True)"
   ]
  },
  {
   "cell_type": "code",
   "execution_count": 63,
   "metadata": {},
   "outputs": [],
   "source": [
    "df_e['ESTACION'].replace({'INDEPENDENCIA.':'INDEPENDENCIA.H'},inplace=True)"
   ]
  },
  {
   "cell_type": "code",
   "execution_count": 64,
   "metadata": {},
   "outputs": [],
   "source": [
    "df=pd.concat([df_a,df_b,df_c,df_d,df_e,df_h])"
   ]
  },
  {
   "cell_type": "code",
   "execution_count": 65,
   "metadata": {},
   "outputs": [
    {
     "name": "stdout",
     "output_type": "stream",
     "text": [
      "(18,)  A\n",
      "(17,)  B\n",
      "(9,)  C\n",
      "(16,)  D\n",
      "(15,)  E\n",
      "(12,)  H\n"
     ]
    }
   ],
   "source": [
    "print(df[df['LINEA']=='A']['ESTACION'].unique().shape,' A')\n",
    "print(df[df['LINEA']=='B']['ESTACION'].unique().shape,' B')\n",
    "print(df[df['LINEA']=='C']['ESTACION'].unique().shape,' C')\n",
    "print(df[df['LINEA']=='D']['ESTACION'].unique().shape,' D')\n",
    "print(df[df['LINEA']=='E']['ESTACION'].unique().shape,' E')\n",
    "print(df[df['LINEA']=='H']['ESTACION'].unique().shape,' H')"
   ]
  },
  {
   "cell_type": "markdown",
   "metadata": {},
   "source": [
    "De esta forma, unificamos los valores de las estaciones y  eliminamos las entradas de \"TALLER DE PRUEBA\" que no suman ningún dato"
   ]
  },
  {
   "cell_type": "markdown",
   "metadata": {},
   "source": [
    "## Análisis por Línea"
   ]
  },
  {
   "cell_type": "markdown",
   "metadata": {},
   "source": [
    "Línea A"
   ]
  },
  {
   "cell_type": "code",
   "execution_count": 66,
   "metadata": {},
   "outputs": [],
   "source": [
    "EstorderA ={'ACOYTE':12, 'ALBERTI':7, 'CARABOBO':15, 'CASTRO BARROS':10, 'CONGRESO':5,\n",
    "       'FLORES':16, 'LIMA':3, 'LORIA':9, 'PASCO':6, 'PERU':1, 'PIEDRAS':2,\n",
    "       'PLAZA DE MAYO':0, 'PLAZA MISERERE':8, 'PRIMERA JUNTA':13, 'PUAN':14,\n",
    "       'RIO DE JANEIRO':11, 'SAENZ PEÑA':4, 'SAN PEDRITO':17}"
   ]
  },
  {
   "cell_type": "code",
   "execution_count": 67,
   "metadata": {},
   "outputs": [],
   "source": [
    "labels = [item[0] for item in sorted(EstorderA.items(), key=lambda kv: kv[1])]"
   ]
  },
  {
   "cell_type": "code",
   "execution_count": 69,
   "metadata": {},
   "outputs": [],
   "source": [
    "df_a['orden'] = df_a['ESTACION'].replace(EstorderA)"
   ]
  },
  {
   "cell_type": "code",
   "execution_count": 70,
   "metadata": {},
   "outputs": [],
   "source": [
    "estacion = df_a.groupby('orden').sum()"
   ]
  },
  {
   "cell_type": "code",
   "execution_count": 72,
   "metadata": {
    "scrolled": true
   },
   "outputs": [
    {
     "data": {
      "text/plain": [
       "(array([ 0,  1,  2,  3,  4,  5,  6,  7,  8,  9, 10, 11, 12, 13, 14, 15, 16,\n",
       "        17]), <a list of 18 Text xticklabel objects>)"
      ]
     },
     "execution_count": 72,
     "metadata": {},
     "output_type": "execute_result"
    },
    {
     "data": {
      "image/png": "[encoded data removed]",
      "text/plain": [
       "<Figure size 1800x720 with 1 Axes>"
      ]
     },
     "metadata": {
      "needs_background": "light"
     },
     "output_type": "display_data"
    }
   ],
   "source": [
    "plt.figure(figsize=(25,10))\n",
    "plt.title('Linea A')\n",
    "ax = sns.barplot(x=estacion.index,y=estacion['TOTAL'],color='skyblue')\n",
    "plt.xlabel('Estacion')\n",
    "plt.ylabel('Total')\n",
    "ax.set_xticklabels(labels)\n",
    "plt.xticks(rotation=45)"
   ]
  },
  {
   "cell_type": "markdown",
   "metadata": {},
   "source": [
    "Línea B"
   ]
  },
  {
   "cell_type": "code",
   "execution_count": 73,
   "metadata": {},
   "outputs": [],
   "source": [
    "EstorderB ={'FLORIDA':1, 'ROSAS':16, 'CALLAO.B':4, 'CARLOS GARDEL':7,\n",
    "       'FEDERICO LACROZE':12, 'DORREGO':11, 'ANGEL GALLARDO':9,\n",
    "       'CARLOS PELLEGRINI':2, 'ECHEVERRIA':15, 'LEANDRO N. ALEM':0, 'LOS INCAS':14,\n",
    "       'MALABIA':10, 'MEDRANO':8, 'PASTEUR':5, 'PUEYRREDON':6, 'TRONADOR':13,\n",
    "       'URUGUAY':3}"
   ]
  },
  {
   "cell_type": "code",
   "execution_count": 74,
   "metadata": {},
   "outputs": [],
   "source": [
    "labels = [item[0] for item in sorted(EstorderA.items(), key=lambda kv: kv[1])]"
   ]
  },
  {
   "cell_type": "code",
   "execution_count": 75,
   "metadata": {},
   "outputs": [],
   "source": [
    "df_b['orden'] = df_b['ESTACION'].replace(EstorderB)"
   ]
  },
  {
   "cell_type": "code",
   "execution_count": 76,
   "metadata": {},
   "outputs": [],
   "source": [
    "estacion = df_b.groupby('orden').sum()"
   ]
  },
  {
   "cell_type": "code",
   "execution_count": 77,
   "metadata": {},
   "outputs": [
    {
     "data": {
      "text/plain": [
       "(array([ 0,  1,  2,  3,  4,  5,  6,  7,  8,  9, 10, 11, 12, 13, 14, 15, 16]),\n",
       " <a list of 17 Text xticklabel objects>)"
      ]
     },
     "execution_count": 77,
     "metadata": {},
     "output_type": "execute_result"
    },
    {
     "data": {
      "image/png": "[encoded data removed]",
      "text/plain": [
       "<Figure size 1800x720 with 1 Axes>"
      ]
     },
     "metadata": {
      "needs_background": "light"
     },
     "output_type": "display_data"
    }
   ],
   "source": [
    "plt.figure(figsize=(25,10))\n",
    "plt.title('Linea B')\n",
    "ax = sns.barplot(x=estacion.index,y=estacion['TOTAL'],color='red')\n",
    "plt.xlabel('Estacion')\n",
    "plt.ylabel('Total')\n",
    "ax.set_xticklabels(labels)\n",
    "plt.xticks(rotation=45)"
   ]
  },
  {
   "cell_type": "markdown",
   "metadata": {},
   "source": [
    "Línea C"
   ]
  },
  {
   "cell_type": "code",
   "execution_count": 78,
   "metadata": {},
   "outputs": [],
   "source": [
    "EstorderC = {'AVENIDA DE MAYO':4, 'CONSTITUCION':0, 'DIAGONAL NORTE':5,\n",
    "       'GENERAL SAN MARTIN':7, 'INDEPENDENCIA':2, 'LAVALLE':6, 'MARIANO MORENO':3,\n",
    "       'RETIRO':8, 'SAN JUAN':1}"
   ]
  },
  {
   "cell_type": "code",
   "execution_count": 79,
   "metadata": {},
   "outputs": [],
   "source": [
    "labels = [item[0] for item in sorted(EstorderC.items(), key=lambda kv: kv[1])]"
   ]
  },
  {
   "cell_type": "code",
   "execution_count": 80,
   "metadata": {},
   "outputs": [],
   "source": [
    "df_c['orden'] = df_c['ESTACION'].replace(EstorderC)"
   ]
  },
  {
   "cell_type": "code",
   "execution_count": 81,
   "metadata": {},
   "outputs": [],
   "source": [
    "estacion = df_c.groupby('orden').sum()"
   ]
  },
  {
   "cell_type": "code",
   "execution_count": 82,
   "metadata": {
    "scrolled": true
   },
   "outputs": [
    {
     "data": {
      "text/plain": [
       "(array([0, 1, 2, 3, 4, 5, 6, 7, 8]), <a list of 9 Text xticklabel objects>)"
      ]
     },
     "execution_count": 82,
     "metadata": {},
     "output_type": "execute_result"
    },
    {
     "data": {
      "image/png": "[encoded data removed]",
      "text/plain": [
       "<Figure size 1800x720 with 1 Axes>"
      ]
     },
     "metadata": {
      "needs_background": "light"
     },
     "output_type": "display_data"
    }
   ],
   "source": [
    "plt.figure(figsize=(25,10))\n",
    "plt.title('Linea C')\n",
    "ax = sns.barplot(x=estacion.index,y=estacion['TOTAL'],color='blue')\n",
    "plt.xlabel('Estacion')\n",
    "plt.ylabel('Total')\n",
    "ax.set_xticklabels(labels)\n",
    "plt.xticks(rotation=45)"
   ]
  },
  {
   "cell_type": "markdown",
   "metadata": {},
   "source": [
    "Línea D"
   ]
  },
  {
   "cell_type": "code",
   "execution_count": 83,
   "metadata": {},
   "outputs": [],
   "source": [
    "EstorderD ={'9 DE JULIO':1, 'AGUERO':6, 'BULNES':7, 'CALLAO':3, 'CATEDRAL':0,\n",
    "       'CONGRESO DE TUCUMAN':15, 'FACULTAD DE MEDICINA':4, 'JOSE HERNANDEZ':13,\n",
    "       'JURAMENTO':14, 'MINISTRO CARRANZA':11, 'OLLEROS':12, 'PALERMO':10,\n",
    "       'PLAZA ITALIA':9, 'PUEYRREDON.D':5, 'SCALABRINI ORTIZ':8, 'TRIBUNALES':2}"
   ]
  },
  {
   "cell_type": "code",
   "execution_count": 84,
   "metadata": {},
   "outputs": [],
   "source": [
    "labels = [item[0] for item in sorted(EstorderD.items(), key=lambda kv: kv[1])]"
   ]
  },
  {
   "cell_type": "code",
   "execution_count": 85,
   "metadata": {},
   "outputs": [],
   "source": [
    "df_d['orden'] = df_d['ESTACION'].replace(EstorderD)"
   ]
  },
  {
   "cell_type": "code",
   "execution_count": 86,
   "metadata": {},
   "outputs": [],
   "source": [
    "estacion = df_d.groupby('orden').sum()"
   ]
  },
  {
   "cell_type": "code",
   "execution_count": 87,
   "metadata": {},
   "outputs": [
    {
     "data": {
      "text/plain": [
       "(array([ 0,  1,  2,  3,  4,  5,  6,  7,  8,  9, 10, 11, 12, 13, 14, 15]),\n",
       " <a list of 16 Text xticklabel objects>)"
      ]
     },
     "execution_count": 87,
     "metadata": {},
     "output_type": "execute_result"
    },
    {
     "data": {
      "image/png": "[encoded data removed]",
      "text/plain": [
       "<Figure size 1800x720 with 1 Axes>"
      ]
     },
     "metadata": {
      "needs_background": "light"
     },
     "output_type": "display_data"
    }
   ],
   "source": [
    "plt.figure(figsize=(25,10))\n",
    "plt.title('Linea D')\n",
    "ax = sns.barplot(x=estacion.index,y=estacion['TOTAL'],color='darkgreen')\n",
    "plt.xlabel('Estacion')\n",
    "plt.ylabel('Total')\n",
    "ax.set_xticklabels(labels)\n",
    "plt.xticks(rotation=45)"
   ]
  },
  {
   "cell_type": "markdown",
   "metadata": {},
   "source": [
    "Línea E"
   ]
  },
  {
   "cell_type": "code",
   "execution_count": 88,
   "metadata": {},
   "outputs": [],
   "source": [
    "EstorderE={'AVENIDA LA PLATA':5, 'BOEDO':6, 'BOLIVAR':14, 'EMILIO MITRE':3,\n",
    "       'ENTRE RIOS':10, 'GENERAL BELGRANO':13, 'INDEPENDENCIA.H':12,\n",
    "       'JOSE MARIA MORENO':4, 'JUJUY':8, 'MEDALLA MILAGROSA':2, 'PICHINCHA':9,\n",
    "       'PZA. DE LOS VIRREYES':0, 'SAN JOSE':11, 'URQUIZA':7, 'VARELA':1}"
   ]
  },
  {
   "cell_type": "code",
   "execution_count": 89,
   "metadata": {},
   "outputs": [],
   "source": [
    "labels = [item[0] for item in sorted(EstorderE.items(), key=lambda kv: kv[1])]"
   ]
  },
  {
   "cell_type": "code",
   "execution_count": 90,
   "metadata": {},
   "outputs": [],
   "source": [
    "df_e['orden'] = df_e['ESTACION'].replace(EstorderD)"
   ]
  },
  {
   "cell_type": "code",
   "execution_count": 91,
   "metadata": {},
   "outputs": [],
   "source": [
    "estacion = df_e.groupby('orden').sum()"
   ]
  },
  {
   "cell_type": "code",
   "execution_count": 92,
   "metadata": {},
   "outputs": [
    {
     "data": {
      "text/plain": [
       "(array([ 0,  1,  2,  3,  4,  5,  6,  7,  8,  9, 10, 11, 12, 13, 14]),\n",
       " <a list of 15 Text xticklabel objects>)"
      ]
     },
     "execution_count": 92,
     "metadata": {},
     "output_type": "execute_result"
    },
    {
     "data": {
      "image/png": "[encoded data removed]",
      "text/plain": [
       "<Figure size 1800x720 with 1 Axes>"
      ]
     },
     "metadata": {
      "needs_background": "light"
     },
     "output_type": "display_data"
    }
   ],
   "source": [
    "plt.figure(figsize=(25,10))\n",
    "plt.title('Linea E')\n",
    "ax = sns.barplot(x=estacion.index,y=estacion['TOTAL'],color='purple')\n",
    "plt.xlabel('Estacion')\n",
    "plt.ylabel('Total')\n",
    "ax.set_xticklabels(labels)\n",
    "plt.xticks(rotation=45)"
   ]
  },
  {
   "cell_type": "markdown",
   "metadata": {},
   "source": [
    "Línea H"
   ]
  },
  {
   "cell_type": "code",
   "execution_count": 93,
   "metadata": {},
   "outputs": [],
   "source": [
    "EstorderH ={'CASEROS':9, 'CORRIENTES':4, 'HOSPITALES':12, 'HUMBERTO I':7, 'INCLAN':8,\n",
    "       'ONCE':5, 'PATRICIOS':10, 'VENEZUELA':6, 'LAS HERAS':1, 'CORDOBA':3,\n",
    "       'SANTA FE':2, 'FACULTAD DE DERECHO':0}"
   ]
  },
  {
   "cell_type": "code",
   "execution_count": 94,
   "metadata": {},
   "outputs": [],
   "source": [
    "labels = [item[0] for item in sorted(EstorderH.items(), key=lambda kv: kv[1])]"
   ]
  },
  {
   "cell_type": "code",
   "execution_count": 95,
   "metadata": {},
   "outputs": [],
   "source": [
    "df_h['orden'] = df_h['ESTACION'].replace(EstorderH)"
   ]
  },
  {
   "cell_type": "code",
   "execution_count": 96,
   "metadata": {},
   "outputs": [],
   "source": [
    "estacion = df_h.groupby('orden').sum()"
   ]
  },
  {
   "cell_type": "code",
   "execution_count": 97,
   "metadata": {},
   "outputs": [
    {
     "data": {
      "text/plain": [
       "(array([ 0,  1,  2,  3,  4,  5,  6,  7,  8,  9, 10, 11]),\n",
       " <a list of 12 Text xticklabel objects>)"
      ]
     },
     "execution_count": 97,
     "metadata": {},
     "output_type": "execute_result"
    },
    {
     "data": {
      "image/png": "[encoded data removed]",
      "text/plain": [
       "<Figure size 1800x720 with 1 Axes>"
      ]
     },
     "metadata": {
      "needs_background": "light"
     },
     "output_type": "display_data"
    }
   ],
   "source": [
    "plt.figure(figsize=(25,10))\n",
    "plt.title('Linea H')\n",
    "ax = sns.barplot(x=estacion.index,y=estacion['TOTAL'],color='gold')\n",
    "plt.xlabel('Estacion')\n",
    "plt.ylabel('Total')\n",
    "ax.set_xticklabels(labels)\n",
    "plt.xticks(rotation=45)"
   ]
  },
  {
   "cell_type": "markdown",
   "metadata": {},
   "source": [
    "A continuación evaluaremos como el promedio de viajantes por línea fue evolucionando año tras año"
   ]
  },
  {
   "cell_type": "code",
   "execution_count": 66,
   "metadata": {},
   "outputs": [
    {
     "data": {
      "image/png": "[encoded data removed]",
      "text/plain": [
       "<Figure size 1080x720 with 1 Axes>"
      ]
     },
     "metadata": {
      "needs_background": "light"
     },
     "output_type": "display_data"
    }
   ],
   "source": [
    "plot=df.pivot_table(values='TOTAL',index=['LINEA','year']).reset_index()\n",
    "plt.figure(figsize=(15,10))\n",
    "sns.lineplot(x='year',y='TOTAL',hue='LINEA',data=plot,markers=True)\n",
    "plt.legend(loc='upper left')\n",
    "plt.title('Lineas')\n",
    "plt.xlabel('Año')\n",
    "plt.ylabel('Total')\n",
    "plt.show()"
   ]
  },
  {
   "cell_type": "markdown",
   "metadata": {},
   "source": [
    "# Evaluación vs 2019"
   ]
  },
  {
   "cell_type": "markdown",
   "metadata": {},
   "source": [
    "###### Luego de evaluar los datos generales del acumulado entre 2014-2018, compararemos los datos del 2018 con los del corriente 2019 para evaluar si la tendencia de crecimiento que se ve en todo el análisis previo continúa"
   ]
  },
  {
   "cell_type": "markdown",
   "metadata": {},
   "source": [
    "En primer lugar debemos limpiar y aplicar las mismas transformaciones al dataframe del 2019."
   ]
  },
  {
   "cell_type": "code",
   "execution_count": 68,
   "metadata": {},
   "outputs": [],
   "source": [
    "df2 = pd.read_csv(r'...\\datasets\\Subte\\datahistorica092019.csv',parse_dates=['fecha','desde','hasta'])"
   ]
  },
  {
   "cell_type": "code",
   "execution_count": 69,
   "metadata": {},
   "outputs": [],
   "source": [
    "df2.rename(columns={'fecha':'FECHA','linea':'LINEA','estacion':'ESTACION','total':'TOTAL','desde':'DESDE','hasta':'HASTA'},inplace=True)"
   ]
  },
  {
   "cell_type": "code",
   "execution_count": 70,
   "metadata": {},
   "outputs": [],
   "source": [
    "df2_f = df2.pivot_table(values='TOTAL',index=['FECHA','DESDE','HASTA','LINEA','ESTACION','periodo'],aggfunc=np.sum).reset_index()"
   ]
  },
  {
   "cell_type": "code",
   "execution_count": 71,
   "metadata": {},
   "outputs": [],
   "source": [
    "df2_f['FECHA'] = df2_f['FECHA'].dt.strftime('%d-%m-%Y')#Utilizamos esta funcion para arreglar entradas mal cargadas"
   ]
  },
  {
   "cell_type": "code",
   "execution_count": 72,
   "metadata": {},
   "outputs": [],
   "source": [
    "df2_f['FECHA'] = pd.to_datetime(df2_f['FECHA'])"
   ]
  },
  {
   "cell_type": "code",
   "execution_count": 73,
   "metadata": {},
   "outputs": [],
   "source": [
    "def pre_proc(dfp):\n",
    "    df=dfp\n",
    "    df['year'] = df['FECHA'].apply(lambda row: row.year)\n",
    "    df['month'] = df['FECHA'].apply(lambda row: row.month)\n",
    "    df['wday'] = df['FECHA'].apply(lambda row: row.dayofweek)\n",
    "    df['Dhour'] = df['DESDE'].apply(lambda row: row.hour)\n",
    "    df['Hhour'] = df['HASTA'].apply(lambda row: row.hour)\n",
    "    df['turno'] = 0\n",
    "    df.loc[(df['Dhour']>=0)&(df['Hhour']<=7),'turno'] = 'Manana'\n",
    "    df.loc[(df['Dhour']>=7)&(df['Hhour']<=12),'turno'] = 'Pico man'\n",
    "    df.loc[(df['Dhour']>=12)&(df['Hhour']<=16),'turno'] = 'Tarde'\n",
    "    df.loc[(df['Dhour']>=16)&(df['Hhour']<=20),'turno'] = 'Pico tarde'\n",
    "    df.loc[(df['Dhour']>=20)&(df['Hhour']<=24),'turno'] = 'Noche'\n",
    "    df = df.drop(['DESDE','HASTA','Dhour','Hhour'],axis=1)\n",
    "    df.replace({'LINEA_A':'A','LineaA':'A','LINEA_B':'B','LineaB':'B','LINEA_C':'C','LineaC':'C','LINEA_D':'D','LineaD':'D','LINEA_E':'E','LineaE':'E','LINEA_H':'H','LineaH':'H'},inplace=True)\n",
    "    df['ESTACION']=df['ESTACION'].apply(lambda row: str.upper(row))\n",
    "    df['ESTACION']=df['ESTACION'].apply(lambda row: str.strip(row))\n",
    "    return df\n",
    "    \n",
    "   #funcion que aplica las transformaciones que fuimos implementando durante la notebook al dataframe del 2019 para dejarlo en el mismo formato\n",
    "    \n",
    "    "
   ]
  },
  {
   "cell_type": "code",
   "execution_count": 74,
   "metadata": {},
   "outputs": [],
   "source": [
    "df2_f = pre_proc(df2_f)"
   ]
  },
  {
   "cell_type": "code",
   "execution_count": 75,
   "metadata": {},
   "outputs": [],
   "source": [
    "sp1=df2_f[df2_f['LINEA']=='A']['ESTACION'].unique()"
   ]
  },
  {
   "cell_type": "code",
   "execution_count": 76,
   "metadata": {},
   "outputs": [],
   "source": [
    "sp=list(sp1[16:24])"
   ]
  },
  {
   "cell_type": "code",
   "execution_count": 77,
   "metadata": {},
   "outputs": [
    {
     "data": {
      "text/plain": [
       "'SAN PEDRITO'"
      ]
     },
     "execution_count": 77,
     "metadata": {},
     "output_type": "execute_result"
    }
   ],
   "source": [
    "sp.pop(1)"
   ]
  },
  {
   "cell_type": "code",
   "execution_count": 78,
   "metadata": {},
   "outputs": [],
   "source": [
    "dsp = {}\n",
    "for i in sp:\n",
    "    dsp[i]='SAENZ PEÑA'"
   ]
  },
  {
   "cell_type": "code",
   "execution_count": 79,
   "metadata": {},
   "outputs": [],
   "source": [
    "df2_f['ESTACION'].replace(dsp,inplace=True)"
   ]
  },
  {
   "cell_type": "code",
   "execution_count": 80,
   "metadata": {},
   "outputs": [],
   "source": [
    "ag=df2_f[df2_f['LINEA']=='D']['ESTACION'].unique()"
   ]
  },
  {
   "cell_type": "code",
   "execution_count": 81,
   "metadata": {},
   "outputs": [
    {
     "data": {
      "text/plain": [
       "array(['9 DE JULIO', 'AGÃ\\x83Â\\x83Ã\\x82Â\\x83Ã\\x83Â\\x82Ã\\x82Â¼ERO',\n",
       "       'BULNES', 'CALLAO', 'CATEDRAL', 'CONGRESO DE TUCUMAN',\n",
       "       'FACULTAD DE MEDICINA', 'JOSE HERNANDEZ', 'JURAMENTO',\n",
       "       'MINISTRO CARRANZA', 'OLLEROS', 'PALERMO', 'PLAZA ITALIA',\n",
       "       'PUEYRREDON.D', 'SCALABRINI ORTIZ', 'TRIBUNALES',\n",
       "       'AGÃ\\x83Â\\x83Ã\\x82Â¼ERO', 'AGÃ\\x83Â¼ERO', 'AGÜERO'], dtype=object)"
      ]
     },
     "execution_count": 81,
     "metadata": {},
     "output_type": "execute_result"
    }
   ],
   "source": [
    "ag"
   ]
  },
  {
   "cell_type": "code",
   "execution_count": 82,
   "metadata": {},
   "outputs": [],
   "source": [
    "ag1 = []\n",
    "ag1.append(ag[1])\n",
    "ag1.append(ag[18])\n",
    "ag1.append(ag[17])\n",
    "ag1.append(ag[16])"
   ]
  },
  {
   "cell_type": "code",
   "execution_count": 83,
   "metadata": {},
   "outputs": [],
   "source": [
    "dsp = {}\n",
    "for i in ag1:\n",
    "    dsp[i]='AGUERO'"
   ]
  },
  {
   "cell_type": "code",
   "execution_count": 84,
   "metadata": {},
   "outputs": [],
   "source": [
    "df2_f['ESTACION'].replace(dsp,inplace=True)"
   ]
  },
  {
   "cell_type": "code",
   "execution_count": 85,
   "metadata": {},
   "outputs": [
    {
     "name": "stdout",
     "output_type": "stream",
     "text": [
      "(18,)\n",
      "(17,)\n",
      "(9,)\n",
      "(16,)\n",
      "(18,)\n",
      "(12,)\n"
     ]
    }
   ],
   "source": [
    "print(df2_f[df2_f['LINEA']=='A']['ESTACION'].unique().shape)\n",
    "print(df2_f[df2_f['LINEA']=='B']['ESTACION'].unique().shape)\n",
    "print(df2_f[df2_f['LINEA']=='C']['ESTACION'].unique().shape)\n",
    "print(df2_f[df2_f['LINEA']=='D']['ESTACION'].unique().shape)\n",
    "print(df2_f[df2_f['LINEA']=='E']['ESTACION'].unique().shape)\n",
    "print(df2_f[df2_f['LINEA']=='H']['ESTACION'].unique().shape)"
   ]
  },
  {
   "cell_type": "code",
   "execution_count": 86,
   "metadata": {},
   "outputs": [],
   "source": [
    "df2 = df2_f"
   ]
  },
  {
   "cell_type": "code",
   "execution_count": 87,
   "metadata": {},
   "outputs": [],
   "source": [
    "df2['fare'] = 0"
   ]
  },
  {
   "cell_type": "code",
   "execution_count": 88,
   "metadata": {},
   "outputs": [],
   "source": [
    "df2.set_index('FECHA',inplace=True)"
   ]
  },
  {
   "cell_type": "code",
   "execution_count": 89,
   "metadata": {},
   "outputs": [],
   "source": [
    "df2.loc['2019-01-01':'2019-01-31','fare'] = 15.5\n",
    "df2.loc['2019-02-01':'2019-03-31','fare'] = 16.5\n",
    "df2.loc['2019-04-01':'2019-09-30','fare'] = 19\n",
    "df2.reset_index(inplace=True)\n",
    "df2.drop('periodo',axis=1,inplace=True)\n"
   ]
  },
  {
   "cell_type": "code",
   "execution_count": 90,
   "metadata": {},
   "outputs": [],
   "source": [
    "df = pd.concat([df,df2])"
   ]
  },
  {
   "cell_type": "markdown",
   "metadata": {},
   "source": [
    "Luego de limpiar los datos del 2019 y aplicarles la misma transformación los unificamos en un mismo dataframe con los datos anteriores. Analisaremos el 2019 en comparación al 2018."
   ]
  },
  {
   "cell_type": "code",
   "execution_count": 91,
   "metadata": {},
   "outputs": [],
   "source": [
    "df.set_index('FECHA',inplace=True)"
   ]
  },
  {
   "cell_type": "code",
   "execution_count": 92,
   "metadata": {},
   "outputs": [],
   "source": [
    "df3 = df.loc['2018-01-01':'2018-09-30']"
   ]
  },
  {
   "cell_type": "code",
   "execution_count": 93,
   "metadata": {},
   "outputs": [],
   "source": [
    "df3 = pd.concat([df3,df.loc['2019-01-01':'2019-09-30']])\n",
    "df3.reset_index(inplace=True)"
   ]
  },
  {
   "cell_type": "code",
   "execution_count": 94,
   "metadata": {},
   "outputs": [
    {
     "data": {
      "image/png": "[encoded data removed]",
      "text/plain": [
       "<Figure size 1080x360 with 1 Axes>"
      ]
     },
     "metadata": {
      "needs_background": "light"
     },
     "output_type": "display_data"
    }
   ],
   "source": [
    "year=df3.groupby('year').sum()\n",
    "plt.figure(figsize=(15,5))\n",
    "plt.title('Total acumulado')\n",
    "sns.barplot(x=year.index,y=year['TOTAL'])\n",
    "plt.xlabel('Año')\n",
    "plt.ylabel('Total')\n",
    "plt.show()"
   ]
  },
  {
   "cell_type": "code",
   "execution_count": 95,
   "metadata": {},
   "outputs": [
    {
     "data": {
      "image/png": "[encoded data removed]",
      "text/plain": [
       "<Figure size 1080x360 with 1 Axes>"
      ]
     },
     "metadata": {
      "needs_background": "light"
     },
     "output_type": "display_data"
    }
   ],
   "source": [
    "mes=df3.pivot_table(values='TOTAL',index=['year','month'],aggfunc=np.sum).reset_index()\n",
    "plt.figure(figsize=(15,5))\n",
    "plt.title('Mensual')\n",
    "sns.barplot(x=mes.month,y=mes.TOTAL,hue=mes.year)\n",
    "plt.xlabel('Mes')\n",
    "plt.ylabel('Total')\n",
    "plt.show()"
   ]
  },
  {
   "cell_type": "code",
   "execution_count": 96,
   "metadata": {},
   "outputs": [
    {
     "data": {
      "image/png": "[encoded data removed]",
      "text/plain": [
       "<Figure size 1080x360 with 1 Axes>"
      ]
     },
     "metadata": {
      "needs_background": "light"
     },
     "output_type": "display_data"
    }
   ],
   "source": [
    "linea=df3.pivot_table(values='TOTAL',index=['year','LINEA'],aggfunc=np.sum).reset_index()\n",
    "plt.figure(figsize=(15,5))\n",
    "plt.title('Por Linea')\n",
    "sns.barplot(x=linea.LINEA,y=linea.TOTAL,hue=linea.year)\n",
    "plt.xlabel('Linea')\n",
    "plt.ylabel('Total')\n",
    "plt.show()"
   ]
  },
  {
   "cell_type": "code",
   "execution_count": 97,
   "metadata": {
    "scrolled": true
   },
   "outputs": [
    {
     "data": {
      "image/png": "[encoded data removed]",
      "text/plain": [
       "<Figure size 1080x360 with 1 Axes>"
      ]
     },
     "metadata": {
      "needs_background": "light"
     },
     "output_type": "display_data"
    }
   ],
   "source": [
    "turno = df3.pivot_table(values='TOTAL',index=['year','turno'],aggfunc=np.sum).reset_index()\n",
    "plt.figure(figsize=(15,5))\n",
    "plt.title('Total por turno')\n",
    "ax =sns.barplot(x=turno.turno,y=turno['TOTAL'],hue=turno['year'])\n",
    "plt.xlabel('Turno')\n",
    "plt.ylabel('Total')\n",
    "plt.show()"
   ]
  },
  {
   "cell_type": "markdown",
   "metadata": {},
   "source": [
    "Finalmente podemos observar que en lo que va del 2019 (analizado al momento de realizar esta notebook - septiembre) podemos observar que la cantidad de viajes totales en subte esta decreciendo."
   ]
  },
  {
   "cell_type": "code",
   "execution_count": null,
   "metadata": {},
   "outputs": [],
   "source": [
    "df3.to_csv(r'...\\Subte\\datafinal.csv',index=False)"
   ]
  }
 ],
 "metadata": {
  "kernelspec": {
   "display_name": "Python 3",
   "language": "python",
   "name": "python3"
  },
  "language_info": {
   "codemirror_mode": {
    "name": "ipython",
    "version": 3
   },
   "file_extension": ".py",
   "mimetype": "text/x-python",
   "name": "python",
   "nbconvert_exporter": "python",
   "pygments_lexer": "ipython3",
   "version": "3.7.1"
  }
 },
 "nbformat": 4,
 "nbformat_minor": 2
}
