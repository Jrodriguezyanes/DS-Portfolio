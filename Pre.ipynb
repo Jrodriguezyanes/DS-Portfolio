{
 "cells": [
  {
   "cell_type": "markdown",
   "metadata": {},
   "source": [
    "Datos utilizados de :\n",
    "    https://data.buenosaires.gob.ar/dataset/subte-viajes-molinetes"
   ]
  },
  {
   "cell_type": "code",
   "execution_count": null,
   "metadata": {},
   "outputs": [],
   "source": [
    "import pandas as pd \n",
    "import numpy as np\n",
    "import os"
   ]
  },
  {
   "cell_type": "markdown",
   "metadata": {},
   "source": [
    "Funcion para transformar los datos en total de dia por estacion y linea"
   ]
  },
  {
   "cell_type": "code",
   "execution_count": 76,
   "metadata": {},
   "outputs": [],
   "source": [
    "def preprocc_df (df,date='FECHA',values='TOTAL',index=['LINEA','ESTACION']):\n",
    "    tframe = pd.DataFrame()\n",
    "    for fecha,data in df.groupby(date):\n",
    "        fechas = pd.pivot_table(data,values=values,index=index,aggfunc=np.sum)\n",
    "        fechas.reset_index(inplace=True)\n",
    "        fechas[date] = fecha\n",
    "        tframe = pd.concat([tframe,fechas])\n",
    "    return tframe\n",
    "    \n",
    "    "
   ]
  },
  {
   "cell_type": "code",
   "execution_count": 77,
   "metadata": {},
   "outputs": [],
   "source": [
    "root = r'...\\Subte\\zips\\\\'"
   ]
  },
  {
   "cell_type": "code",
   "execution_count": 78,
   "metadata": {},
   "outputs": [],
   "source": [
    "dir_ = os.listdir(root)"
   ]
  },
  {
   "cell_type": "code",
   "execution_count": 79,
   "metadata": {},
   "outputs": [
    {
     "data": {
      "text/plain": [
       "['molinetes-2015.zip',\n",
       " 'molinetes-2016.zip',\n",
       " 'molinetes-2017.zip',\n",
       " 'molinetes-2018.zip',\n",
       " 'molinetes-mensual-2019.csv']"
      ]
     },
     "execution_count": 79,
     "metadata": {},
     "output_type": "execute_result"
    }
   ],
   "source": [
    "dir_"
   ]
  },
  {
   "cell_type": "code",
   "execution_count": 80,
   "metadata": {},
   "outputs": [
    {
     "name": "stdout",
     "output_type": "stream",
     "text": [
      "Doing molinetes-2015.zip\n",
      "Doing molinetes-2016.zip\n",
      "Doing molinetes-2017.zip\n",
      "Doing molinetes-2018.zip\n",
      "Doing molinetes-mensual-2019.csv\n",
      "Doing2014\n",
      "Doing2019\n"
     ]
    }
   ],
   "source": [
    "df = pd.DataFrame()\n",
    "for file in dir_:\n",
    "    print(\"Doing \"+file)\n",
    "    try:\n",
    "        data = pd.read_csv(root+file,sep=';',parse_dates=['FECHA'])\n",
    "    except:\n",
    "        data = pd.read_csv(root+file,sep=',',parse_dates=['fecha'])\n",
    "        data.rename(columns={'fecha':'FECHA','linea':'LINEA','estacion':'ESTACION','total':'TOTAL'},inplace=True)\n",
    "    df = pd.concat([df,preprocc_df(data)])\n",
    "#CASOS ESPECIALES\n",
    "print('Doing'+\"2014\")\n",
    "data =pd.read_csv(r'...\\Subte\\molinetes-2014.zip',sep=';',parse_dates=['FECHA'])#casos especiales\n",
    "data.rename(columns={'PAX_TOTAL':'TOTAL'},inplace=True)\n",
    "df = pd.concat([df,preprocc_df(data)])\n",
    "print('Doing'+\"2019\")\n",
    "data =pd.read_csv(r'...\\Subte\\datahistorica082019.csv',sep=',',parse_dates=['fecha'])\n",
    "data.rename(columns={'fecha':'FECHA','linea':'LINEA','estacion':'ESTACION','total':'TOTAL'},inplace=True)\n",
    "df = pd.concat([df,preprocc_df(data)])\n",
    "\n"
   ]
  },
  {
   "cell_type": "code",
   "execution_count": 82,
   "metadata": {},
   "outputs": [],
   "source": [
    "df.to_csv(r'...\\Subte\\totales.csv',index=False)"
   ]
  },
  {
   "cell_type": "code",
   "execution_count": null,
   "metadata": {},
   "outputs": [],
   "source": []
  }
 ],
 "metadata": {
  "kernelspec": {
   "display_name": "Python 3",
   "language": "python",
   "name": "python3"
  },
  "language_info": {
   "codemirror_mode": {
    "name": "ipython",
    "version": 3
   },
   "file_extension": ".py",
   "mimetype": "text/x-python",
   "name": "python",
   "nbconvert_exporter": "python",
   "pygments_lexer": "ipython3",
   "version": "3.7.1"
  }
 },
 "nbformat": 4,
 "nbformat_minor": 2
}
