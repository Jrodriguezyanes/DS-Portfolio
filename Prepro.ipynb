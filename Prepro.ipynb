{
 "cells": [
  {
   "cell_type": "code",
   "execution_count": 25,
   "metadata": {},
   "outputs": [],
   "source": [
    "import pandas as pd \n",
    "import numpy as np\n",
    "import os"
   ]
  },
  {
   "cell_type": "code",
   "execution_count": 26,
   "metadata": {},
   "outputs": [],
   "source": [
    "def preprocc_df (df,date='FECHA',values='TOTAL',index=['FECHA','DESDE','HASTA','LINEA','ESTACION']):\n",
    "    tframe = pd.DataFrame()\n",
    "    tframe = df.pivot_table(values=values,index=index,aggfunc=np.sum).reset_index()\n",
    "    return tframe\n",
    "    \n",
    "    "
   ]
  },
  {
   "cell_type": "code",
   "execution_count": 27,
   "metadata": {},
   "outputs": [],
   "source": [
    "root = r'..\\Subte\\zips\\\\'"
   ]
  },
  {
   "cell_type": "code",
   "execution_count": 28,
   "metadata": {},
   "outputs": [],
   "source": [
    "dir_ = os.listdir(root)"
   ]
  },
  {
   "cell_type": "code",
   "execution_count": 29,
   "metadata": {},
   "outputs": [
    {
     "data": {
      "text/plain": [
       "['molinetes-2015.zip',\n",
       " 'molinetes-2016.zip',\n",
       " 'molinetes-2017.zip',\n",
       " 'molinetes-2018.zip']"
      ]
     },
     "execution_count": 29,
     "metadata": {},
     "output_type": "execute_result"
    }
   ],
   "source": [
    "dir_"
   ]
  },
  {
   "cell_type": "code",
   "execution_count": 30,
   "metadata": {},
   "outputs": [
    {
     "name": "stdout",
     "output_type": "stream",
     "text": [
      "Doing molinetes-2015.zip\n",
      "Doing molinetes-2016.zip\n",
      "Doing molinetes-2017.zip\n",
      "Doing molinetes-2018.zip\n",
      "Doing2014\n"
     ]
    }
   ],
   "source": [
    "df = pd.DataFrame()\n",
    "for file in dir_:\n",
    "    print(\"Doing \"+file)\n",
    "    try:\n",
    "        data = pd.read_csv(root+file,sep=';',parse_dates=['FECHA','DESDE','HASTA'])\n",
    "    except:\n",
    "        data = pd.read_csv(root+file,sep=',',parse_dates=['fecha','desde','hasta'])\n",
    "        data.rename(columns={'fecha':'FECHA','linea':'LINEA','estacion':'ESTACION','total':'TOTAL','desde':'DESDE','hasta':'HASTA'},inplace=True)\n",
    "    df = pd.concat([df,preprocc_df(data)])\n",
    "#CASOS ESPECIALES\n",
    "print('Doing'+\"2014\")\n",
    "data =pd.read_csv(r'...\\Subte\\molinetes-2014.zip',sep=';',parse_dates=['FECHA','DESDE','HASTA'])#casos especiales\n",
    "data.rename(columns={'PAX_TOTAL':'TOTAL'},inplace=True)\n",
    "df = pd.concat([df,preprocc_df(data)])"
   ]
  },
  {
   "cell_type": "code",
   "execution_count": 34,
   "metadata": {},
   "outputs": [],
   "source": [
    "df.to_csv(r'...\\Subte\\totales.csv',index=False)"
   ]
  }
 ],
 "metadata": {
  "kernelspec": {
   "display_name": "Python 3",
   "language": "python",
   "name": "python3"
  },
  "language_info": {
   "codemirror_mode": {
    "name": "ipython",
    "version": 3
   },
   "file_extension": ".py",
   "mimetype": "text/x-python",
   "name": "python",
   "nbconvert_exporter": "python",
   "pygments_lexer": "ipython3",
   "version": "3.7.1"
  }
 },
 "nbformat": 4,
 "nbformat_minor": 2
}
