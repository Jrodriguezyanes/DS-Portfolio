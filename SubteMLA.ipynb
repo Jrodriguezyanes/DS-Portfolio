{
 "cells": [
  {
   "cell_type": "markdown",
   "metadata": {},
   "source": [
    "# Machine Learning Subte"
   ]
  },
  {
   "cell_type": "markdown",
   "metadata": {},
   "source": [
    "El objetivo de esta notebook es generar un modelo de machine learning que pueda predecir la cantidad de viajes dado: Linea,Estacion,tarifa,mes y dia de la semana. Se evaluaran distintos modelos de ML a fines de escojer el mejor"
   ]
  },
  {
   "cell_type": "code",
   "execution_count": 1,
   "metadata": {},
   "outputs": [],
   "source": [
    "import pandas as pd\n",
    "import numpy as np\n",
    "import seaborn as sns\n",
    "import matplotlib.pyplot as plt\n",
    "import pickle\n",
    "from sklearn.model_selection import train_test_split\n",
    "from sklearn.model_selection import KFold\n",
    "from sklearn.model_selection import cross_val_score\n",
    "from sklearn.metrics import mean_squared_error\n",
    "MAX_ROWS = 10\n",
    "pd.set_option('display.max_rows', MAX_ROWS)\n",
    "pd.set_option('display.max_columns', 200)\n",
    " \n",
    "sns.set_style(\"whitegrid\")\n",
    "sns.set_context(\"paper\")\n",
    "\n",
    "%matplotlib inline"
   ]
  },
  {
   "cell_type": "code",
   "execution_count": 2,
   "metadata": {},
   "outputs": [],
   "source": [
    "from sklearn.linear_model import LinearRegression\n",
    "from sklearn.linear_model import Lasso\n",
    "from sklearn.tree import DecisionTreeRegressor\n",
    "from sklearn.ensemble import GradientBoostingRegressor\n",
    "from sklearn.ensemble import RandomForestRegressor\n",
    "from sklearn.model_selection import GridSearchCV\n"
   ]
  },
  {
   "cell_type": "markdown",
   "metadata": {},
   "source": [
    "Funciones para utilizar durante toda la notebook"
   ]
  },
  {
   "cell_type": "code",
   "execution_count": 3,
   "metadata": {},
   "outputs": [],
   "source": [
    "def params_gs(df,target,alg,grid,cv=5):#gridsearch cv para buscar hyperparametros\n",
    "    X = df.drop(target,axis=1)\n",
    "    y = df[target]\n",
    "    grid = GridSearchCV(alg,param_grid=grid,cv=cv,scoring='neg_mean_squared_error',verbose=10)\n",
    "    grid.fit(X,y)\n",
    "    print(grid.best_score_)\n",
    "    print(grid.best_params_)\n",
    "    return grid.best_estimator_"
   ]
  },
  {
   "cell_type": "code",
   "execution_count": 4,
   "metadata": {},
   "outputs": [],
   "source": [
    "def transform_df(df):#transforma el dataframe para ingresar al modelo utilizando variables dummies\n",
    "    df = df.join(pd.get_dummies(df['ESTACION']))\n",
    "    df = df.join(pd.get_dummies(df['turno']))\n",
    "    df = df.drop(['LINEA','ESTACION','year','turno'],axis=1)\n",
    "    return df"
   ]
  },
  {
   "cell_type": "code",
   "execution_count": 5,
   "metadata": {},
   "outputs": [],
   "source": [
    "def validate_model(df,target,models):#evalua una serie de modelos aplicandoles crossvalidation\n",
    "    names = []\n",
    "    results = []\n",
    "    X = df.drop(target,axis=1)\n",
    "    y = df[target]\n",
    "    for name,model in models:\n",
    "        kvfold = KFold(n_splits=10,random_state=21)\n",
    "        cvresults = cross_val_score(model,X,y,cv=kvfold,scoring='neg_mean_squared_error')\n",
    "        results.append(cvresults)\n",
    "        names.append(name)\n",
    "        msg = \"%s: %f (%f)\" % (name, cvresults.mean(), cvresults.std())\n",
    "        print(msg)"
   ]
  },
  {
   "cell_type": "code",
   "execution_count": 6,
   "metadata": {},
   "outputs": [],
   "source": [
    "def test_pred(df,target,model):#predice el Test-set  y construye un dataframe con los resultados obtenidos \n",
    "    X = df.drop(target,axis=1)\n",
    "    y = df[target]\n",
    "    y_pred = model.predict(X)\n",
    "    print(mean_squared_error(y,y_pred))\n",
    "    return pd.DataFrame({'Real':y,'Modelo':y_pred,'Diferencia':y-y_pred})"
   ]
  },
  {
   "cell_type": "code",
   "execution_count": 7,
   "metadata": {},
   "outputs": [],
   "source": [
    "df = pd.read_csv(r'...\\Subte\\datafinal.csv')"
   ]
  },
  {
   "cell_type": "code",
   "execution_count": 8,
   "metadata": {},
   "outputs": [
    {
     "data": {
      "text/plain": [
       "count    12025078.000000\n",
       "mean          148.094779\n",
       "std           215.142196\n",
       "min             0.000000\n",
       "25%            30.000000\n",
       "50%            81.000000\n",
       "75%           196.000000\n",
       "max         15328.000000\n",
       "Name: TOTAL, dtype: object"
      ]
     },
     "execution_count": 8,
     "metadata": {},
     "output_type": "execute_result"
    }
   ],
   "source": [
    "df['TOTAL'].describe().apply(lambda x: format(x, 'f'))"
   ]
  },
  {
   "cell_type": "markdown",
   "metadata": {},
   "source": [
    "Si bien realizamos transformaciones al datset en las notebooks pasadas la variable 'TOTAL' solamente fue evaluada en forma descriptiva. A fines de utilizarla en un modelo es importante evaluar la distribucion de la misma. Podemos observar que hay una serie de outliers los cuales filtraremos para solamente trabajar con un poco mas del percentil 75"
   ]
  },
  {
   "cell_type": "code",
   "execution_count": 9,
   "metadata": {},
   "outputs": [
    {
     "data": {
      "text/plain": [
       "<matplotlib.axes._subplots.AxesSubplot at 0x2aa606d9a90>"
      ]
     },
     "execution_count": 9,
     "metadata": {},
     "output_type": "execute_result"
    },
    {
     "data": {
      "image/png": "[encoded data removed]",
      "text/plain": [
       "<Figure size 432x288 with 1 Axes>"
      ]
     },
     "metadata": {
      "needs_background": "light"
     },
     "output_type": "display_data"
    }
   ],
   "source": [
    "sns.boxplot(x=df['TOTAL'])"
   ]
  },
  {
   "cell_type": "code",
   "execution_count": 10,
   "metadata": {},
   "outputs": [],
   "source": [
    "df_filtered=df.drop(df.index[df['TOTAL']>=200])"
   ]
  },
  {
   "cell_type": "code",
   "execution_count": 11,
   "metadata": {},
   "outputs": [
    {
     "data": {
      "text/plain": [
       "<matplotlib.axes._subplots.AxesSubplot at 0x2aa121eb400>"
      ]
     },
     "execution_count": 11,
     "metadata": {},
     "output_type": "execute_result"
    },
    {
     "data": {
      "image/png": "[encoded data removed]",
      "text/plain": [
       "<Figure size 432x288 with 1 Axes>"
      ]
     },
     "metadata": {
      "needs_background": "light"
     },
     "output_type": "display_data"
    }
   ],
   "source": [
    "sns.boxplot(x=df_filtered['TOTAL'])"
   ]
  },
  {
   "cell_type": "markdown",
   "metadata": {},
   "source": [
    "Entrenaremos el modelo utilizando los datos del 2018 y 2019 para tener una predicion mas acorde a la actualidad. El enfoque que utilizaremos es generar 1 modelo por cada linea."
   ]
  },
  {
   "cell_type": "code",
   "execution_count": 12,
   "metadata": {},
   "outputs": [],
   "source": [
    "traintest=df_filtered.loc[(df_filtered['year']==2018)|(df_filtered['year']==2019)]\n",
    "traintest = traintest.sample(traintest.shape[0])\n",
    "A = traintest[traintest['LINEA']=='A']\n",
    "train_A,test_A = train_test_split(A,random_state=21,test_size=0.10)\n",
    "\n"
   ]
  },
  {
   "cell_type": "markdown",
   "metadata": {},
   "source": [
    "# Linea A"
   ]
  },
  {
   "cell_type": "code",
   "execution_count": 13,
   "metadata": {},
   "outputs": [],
   "source": [
    "train_A=transform_df(train_A).reset_index(drop=True)\n",
    "test_A=transform_df(test_A).reset_index(drop=True)"
   ]
  },
  {
   "cell_type": "code",
   "execution_count": 14,
   "metadata": {},
   "outputs": [],
   "source": [
    "#train_A=train_A.drop(train_A.index[train_A['TOTAL']==0])"
   ]
  },
  {
   "cell_type": "markdown",
   "metadata": {},
   "source": [
    "Evaluaremos los siguientes modelos con la funcion Validate model que declaramos previamente"
   ]
  },
  {
   "cell_type": "code",
   "execution_count": 15,
   "metadata": {
    "scrolled": true
   },
   "outputs": [],
   "source": [
    "models = []\n",
    "models.append(('LR',LinearRegression()))\n",
    "models.append(('LS',Lasso()))\n",
    "models.append(('DT',DecisionTreeRegressor()))\n",
    "models.append(('GB',GradientBoostingRegressor(n_estimators=200)))"
   ]
  },
  {
   "cell_type": "code",
   "execution_count": 16,
   "metadata": {},
   "outputs": [
    {
     "name": "stdout",
     "output_type": "stream",
     "text": [
      "LR: -1965.697403 (6.166650)\n",
      "LS: -2127.196482 (8.268043)\n",
      "DT: -1197.539934 (7.041030)\n",
      "GB: -1407.012571 (5.604641)\n"
     ]
    }
   ],
   "source": [
    "validate_model(train_A,'TOTAL',models)"
   ]
  },
  {
   "cell_type": "markdown",
   "metadata": {},
   "source": [
    "DT y GB tuvieron los mejores scores buscaremos sus mejores hyper-parametros y evaluaremos su performance contra el set de Test"
   ]
  },
  {
   "cell_type": "code",
   "execution_count": 17,
   "metadata": {},
   "outputs": [],
   "source": [
    "DT = DecisionTreeRegressor()"
   ]
  },
  {
   "cell_type": "code",
   "execution_count": 18,
   "metadata": {},
   "outputs": [],
   "source": [
    "GB = GradientBoostingRegressor()"
   ]
  },
  {
   "cell_type": "code",
   "execution_count": 19,
   "metadata": {},
   "outputs": [],
   "source": [
    "param_gridDT = {'max_depth':[None,10,20,30]}"
   ]
  },
  {
   "cell_type": "code",
   "execution_count": 20,
   "metadata": {},
   "outputs": [],
   "source": [
    "param_gridGB={'n_estimators':[100,200,250]}"
   ]
  },
  {
   "cell_type": "code",
   "execution_count": 21,
   "metadata": {},
   "outputs": [
    {
     "name": "stdout",
     "output_type": "stream",
     "text": [
      "Fitting 5 folds for each of 4 candidates, totalling 20 fits\n",
      "[CV] max_depth=None ..................................................\n"
     ]
    },
    {
     "name": "stderr",
     "output_type": "stream",
     "text": [
      "[Parallel(n_jobs=1)]: Using backend SequentialBackend with 1 concurrent workers.\n"
     ]
    },
    {
     "name": "stdout",
     "output_type": "stream",
     "text": [
      "[CV] ......... max_depth=None, score=-1197.319500461795, total=   1.5s\n",
      "[CV] max_depth=None ..................................................\n"
     ]
    },
    {
     "name": "stderr",
     "output_type": "stream",
     "text": [
      "[Parallel(n_jobs=1)]: Done   1 out of   1 | elapsed:    1.7s remaining:    0.0s\n"
     ]
    },
    {
     "name": "stdout",
     "output_type": "stream",
     "text": [
      "[CV] ........ max_depth=None, score=-1203.3741171659344, total=   1.5s\n",
      "[CV] max_depth=None ..................................................\n"
     ]
    },
    {
     "name": "stderr",
     "output_type": "stream",
     "text": [
      "[Parallel(n_jobs=1)]: Done   2 out of   2 | elapsed:    3.5s remaining:    0.0s\n"
     ]
    },
    {
     "name": "stdout",
     "output_type": "stream",
     "text": [
      "[CV] ........ max_depth=None, score=-1205.7126295272064, total=   1.5s\n",
      "[CV] max_depth=None ..................................................\n"
     ]
    },
    {
     "name": "stderr",
     "output_type": "stream",
     "text": [
      "[Parallel(n_jobs=1)]: Done   3 out of   3 | elapsed:    5.3s remaining:    0.0s\n"
     ]
    },
    {
     "name": "stdout",
     "output_type": "stream",
     "text": [
      "[CV] ........ max_depth=None, score=-1210.2692355350528, total=   1.5s\n",
      "[CV] max_depth=None ..................................................\n"
     ]
    },
    {
     "name": "stderr",
     "output_type": "stream",
     "text": [
      "[Parallel(n_jobs=1)]: Done   4 out of   4 | elapsed:    7.1s remaining:    0.0s\n"
     ]
    },
    {
     "name": "stdout",
     "output_type": "stream",
     "text": [
      "[CV] ........ max_depth=None, score=-1194.5175164627199, total=   1.5s\n",
      "[CV] max_depth=10 ....................................................\n"
     ]
    },
    {
     "name": "stderr",
     "output_type": "stream",
     "text": [
      "[Parallel(n_jobs=1)]: Done   5 out of   5 | elapsed:    9.0s remaining:    0.0s\n"
     ]
    },
    {
     "name": "stdout",
     "output_type": "stream",
     "text": [
      "[CV] .......... max_depth=10, score=-1451.3228757161633, total=   1.0s\n",
      "[CV] max_depth=10 ....................................................\n"
     ]
    },
    {
     "name": "stderr",
     "output_type": "stream",
     "text": [
      "[Parallel(n_jobs=1)]: Done   6 out of   6 | elapsed:   10.2s remaining:    0.0s\n"
     ]
    },
    {
     "name": "stdout",
     "output_type": "stream",
     "text": [
      "[CV] .......... max_depth=10, score=-1447.2641127508537, total=   1.0s\n",
      "[CV] max_depth=10 ....................................................\n"
     ]
    },
    {
     "name": "stderr",
     "output_type": "stream",
     "text": [
      "[Parallel(n_jobs=1)]: Done   7 out of   7 | elapsed:   11.5s remaining:    0.0s\n"
     ]
    },
    {
     "name": "stdout",
     "output_type": "stream",
     "text": [
      "[CV] ........... max_depth=10, score=-1449.205637731165, total=   1.0s\n",
      "[CV] max_depth=10 ....................................................\n"
     ]
    },
    {
     "name": "stderr",
     "output_type": "stream",
     "text": [
      "[Parallel(n_jobs=1)]: Done   8 out of   8 | elapsed:   12.7s remaining:    0.0s\n"
     ]
    },
    {
     "name": "stdout",
     "output_type": "stream",
     "text": [
      "[CV] ........... max_depth=10, score=-1451.121523578674, total=   1.0s\n",
      "[CV] max_depth=10 ....................................................\n"
     ]
    },
    {
     "name": "stderr",
     "output_type": "stream",
     "text": [
      "[Parallel(n_jobs=1)]: Done   9 out of   9 | elapsed:   14.0s remaining:    0.0s\n"
     ]
    },
    {
     "name": "stdout",
     "output_type": "stream",
     "text": [
      "[CV] .......... max_depth=10, score=-1438.7162315153168, total=   1.0s\n",
      "[CV] max_depth=20 ....................................................\n",
      "[CV] .......... max_depth=20, score=-1227.3063550973463, total=   1.4s\n",
      "[CV] max_depth=20 ....................................................\n",
      "[CV] .......... max_depth=20, score=-1225.7979221388289, total=   1.5s\n",
      "[CV] max_depth=20 ....................................................\n",
      "[CV] .......... max_depth=20, score=-1233.8909038810639, total=   1.4s\n",
      "[CV] max_depth=20 ....................................................\n",
      "[CV] .......... max_depth=20, score=-1237.3960827523465, total=   1.4s\n",
      "[CV] max_depth=20 ....................................................\n",
      "[CV] .......... max_depth=20, score=-1219.4712089338466, total=   1.4s\n",
      "[CV] max_depth=30 ....................................................\n",
      "[CV] .......... max_depth=30, score=-1197.6172369342062, total=   1.5s\n",
      "[CV] max_depth=30 ....................................................\n",
      "[CV] .......... max_depth=30, score=-1203.3676780771482, total=   1.5s\n",
      "[CV] max_depth=30 ....................................................\n",
      "[CV] .......... max_depth=30, score=-1205.7528842468814, total=   1.5s\n",
      "[CV] max_depth=30 ....................................................\n",
      "[CV] .......... max_depth=30, score=-1210.6811178297207, total=   1.5s\n",
      "[CV] max_depth=30 ....................................................\n",
      "[CV] .......... max_depth=30, score=-1194.4768542238935, total=   1.5s\n"
     ]
    },
    {
     "name": "stderr",
     "output_type": "stream",
     "text": [
      "[Parallel(n_jobs=1)]: Done  20 out of  20 | elapsed:   32.8s finished\n"
     ]
    },
    {
     "name": "stdout",
     "output_type": "stream",
     "text": [
      "-1202.2385924828104\n",
      "{'max_depth': None}\n"
     ]
    }
   ],
   "source": [
    "DTop = params_gs(train_A,'TOTAL',DT,grid=param_gridDT)"
   ]
  },
  {
   "cell_type": "code",
   "execution_count": 22,
   "metadata": {},
   "outputs": [
    {
     "name": "stdout",
     "output_type": "stream",
     "text": [
      "Fitting 5 folds for each of 3 candidates, totalling 15 fits\n",
      "[CV] n_estimators=100 ................................................\n"
     ]
    },
    {
     "name": "stderr",
     "output_type": "stream",
     "text": [
      "[Parallel(n_jobs=1)]: Using backend SequentialBackend with 1 concurrent workers.\n"
     ]
    },
    {
     "name": "stdout",
     "output_type": "stream",
     "text": [
      "[CV] ...... n_estimators=100, score=-1487.0093440823368, total=  38.4s\n",
      "[CV] n_estimators=100 ................................................\n"
     ]
    },
    {
     "name": "stderr",
     "output_type": "stream",
     "text": [
      "[Parallel(n_jobs=1)]: Done   1 out of   1 | elapsed:   39.2s remaining:    0.0s\n"
     ]
    },
    {
     "name": "stdout",
     "output_type": "stream",
     "text": [
      "[CV] ...... n_estimators=100, score=-1483.5897737514956, total=  39.6s\n",
      "[CV] n_estimators=100 ................................................\n"
     ]
    },
    {
     "name": "stderr",
     "output_type": "stream",
     "text": [
      "[Parallel(n_jobs=1)]: Done   2 out of   2 | elapsed:  1.3min remaining:    0.0s\n"
     ]
    },
    {
     "name": "stdout",
     "output_type": "stream",
     "text": [
      "[CV] ....... n_estimators=100, score=-1488.583945085661, total=  38.9s\n",
      "[CV] n_estimators=100 ................................................\n"
     ]
    },
    {
     "name": "stderr",
     "output_type": "stream",
     "text": [
      "[Parallel(n_jobs=1)]: Done   3 out of   3 | elapsed:  2.0min remaining:    0.0s\n"
     ]
    },
    {
     "name": "stdout",
     "output_type": "stream",
     "text": [
      "[CV] ...... n_estimators=100, score=-1486.4464905525583, total=  38.4s\n",
      "[CV] n_estimators=100 ................................................\n"
     ]
    },
    {
     "name": "stderr",
     "output_type": "stream",
     "text": [
      "[Parallel(n_jobs=1)]: Done   4 out of   4 | elapsed:  2.6min remaining:    0.0s\n"
     ]
    },
    {
     "name": "stdout",
     "output_type": "stream",
     "text": [
      "[CV] ....... n_estimators=100, score=-1476.832617499106, total=  39.2s\n",
      "[CV] n_estimators=200 ................................................\n"
     ]
    },
    {
     "name": "stderr",
     "output_type": "stream",
     "text": [
      "[Parallel(n_jobs=1)]: Done   5 out of   5 | elapsed:  3.3min remaining:    0.0s\n"
     ]
    },
    {
     "name": "stdout",
     "output_type": "stream",
     "text": [
      "[CV] ...... n_estimators=200, score=-1414.4025804092078, total= 1.2min\n",
      "[CV] n_estimators=200 ................................................\n"
     ]
    },
    {
     "name": "stderr",
     "output_type": "stream",
     "text": [
      "[Parallel(n_jobs=1)]: Done   6 out of   6 | elapsed:  4.6min remaining:    0.0s\n"
     ]
    },
    {
     "name": "stdout",
     "output_type": "stream",
     "text": [
      "[CV] ...... n_estimators=200, score=-1406.3494219513136, total= 1.2min\n",
      "[CV] n_estimators=200 ................................................\n"
     ]
    },
    {
     "name": "stderr",
     "output_type": "stream",
     "text": [
      "[Parallel(n_jobs=1)]: Done   7 out of   7 | elapsed:  5.8min remaining:    0.0s\n"
     ]
    },
    {
     "name": "stdout",
     "output_type": "stream",
     "text": [
      "[CV] ...... n_estimators=200, score=-1412.1992966334894, total= 1.2min\n",
      "[CV] n_estimators=200 ................................................\n"
     ]
    },
    {
     "name": "stderr",
     "output_type": "stream",
     "text": [
      "[Parallel(n_jobs=1)]: Done   8 out of   8 | elapsed:  7.1min remaining:    0.0s\n"
     ]
    },
    {
     "name": "stdout",
     "output_type": "stream",
     "text": [
      "[CV] ...... n_estimators=200, score=-1410.8208802057256, total= 1.2min\n",
      "[CV] n_estimators=200 ................................................\n"
     ]
    },
    {
     "name": "stderr",
     "output_type": "stream",
     "text": [
      "[Parallel(n_jobs=1)]: Done   9 out of   9 | elapsed:  8.4min remaining:    0.0s\n"
     ]
    },
    {
     "name": "stdout",
     "output_type": "stream",
     "text": [
      "[CV] ...... n_estimators=200, score=-1399.3671958083823, total= 1.2min\n",
      "[CV] n_estimators=250 ................................................\n",
      "[CV] ...... n_estimators=250, score=-1398.7491079688677, total= 1.5min\n",
      "[CV] n_estimators=250 ................................................\n",
      "[CV] ...... n_estimators=250, score=-1388.9482407838825, total= 1.5min\n",
      "[CV] n_estimators=250 ................................................\n",
      "[CV] ...... n_estimators=250, score=-1394.6253108770645, total= 1.5min\n",
      "[CV] n_estimators=250 ................................................\n",
      "[CV] ...... n_estimators=250, score=-1393.1095816262903, total= 1.5min\n",
      "[CV] n_estimators=250 ................................................\n",
      "[CV] ...... n_estimators=250, score=-1381.8615536827829, total= 1.5min\n"
     ]
    },
    {
     "name": "stderr",
     "output_type": "stream",
     "text": [
      "[Parallel(n_jobs=1)]: Done  15 out of  15 | elapsed: 17.3min finished\n"
     ]
    },
    {
     "name": "stdout",
     "output_type": "stream",
     "text": [
      "-1391.4587682702281\n",
      "{'n_estimators': 250}\n"
     ]
    }
   ],
   "source": [
    "GBop = params_gs(train_A,'TOTAL',GB,grid=param_gridGB)"
   ]
  },
  {
   "cell_type": "code",
   "execution_count": 23,
   "metadata": {},
   "outputs": [
    {
     "name": "stdout",
     "output_type": "stream",
     "text": [
      "1384.2550733381793\n",
      "1190.8165490712909\n"
     ]
    }
   ],
   "source": [
    "resultsGB = test_pred(test_A,'TOTAL',GBop)\n",
    "resultsDT = test_pred(test_A,'TOTAL',DTop)"
   ]
  },
  {
   "cell_type": "markdown",
   "metadata": {},
   "source": [
    "Determinamos que el Decision Tree es el mejor modelo para la linea A"
   ]
  },
  {
   "cell_type": "code",
   "execution_count": 24,
   "metadata": {},
   "outputs": [],
   "source": [
    "pickle_a = open('modeloA.pickle','wb')\n",
    "pickle.dump(DTop,pickle_a)\n",
    "pickle_a.close()\n"
   ]
  },
  {
   "cell_type": "markdown",
   "metadata": {},
   "source": [
    "Evaluacion y diferencia entre el modelo y lo real"
   ]
  },
  {
   "cell_type": "code",
   "execution_count": 25,
   "metadata": {},
   "outputs": [
    {
     "data": {
      "text/html": [
       "<div>\n",
       "<style scoped>\n",
       "    .dataframe tbody tr th:only-of-type {\n",
       "        vertical-align: middle;\n",
       "    }\n",
       "\n",
       "    .dataframe tbody tr th {\n",
       "        vertical-align: top;\n",
       "    }\n",
       "\n",
       "    .dataframe thead th {\n",
       "        text-align: right;\n",
       "    }\n",
       "</style>\n",
       "<table border=\"1\" class=\"dataframe\">\n",
       "  <thead>\n",
       "    <tr style=\"text-align: right;\">\n",
       "      <th></th>\n",
       "      <th>Real</th>\n",
       "      <th>Modelo</th>\n",
       "      <th>Diferencia</th>\n",
       "    </tr>\n",
       "  </thead>\n",
       "  <tbody>\n",
       "    <tr>\n",
       "      <th>0</th>\n",
       "      <td>60.0</td>\n",
       "      <td>63.092593</td>\n",
       "      <td>-3.092593</td>\n",
       "    </tr>\n",
       "    <tr>\n",
       "      <th>1</th>\n",
       "      <td>113.0</td>\n",
       "      <td>112.555556</td>\n",
       "      <td>0.444444</td>\n",
       "    </tr>\n",
       "    <tr>\n",
       "      <th>2</th>\n",
       "      <td>3.0</td>\n",
       "      <td>10.444444</td>\n",
       "      <td>-7.444444</td>\n",
       "    </tr>\n",
       "    <tr>\n",
       "      <th>3</th>\n",
       "      <td>121.0</td>\n",
       "      <td>102.344262</td>\n",
       "      <td>18.655738</td>\n",
       "    </tr>\n",
       "    <tr>\n",
       "      <th>4</th>\n",
       "      <td>49.0</td>\n",
       "      <td>62.630769</td>\n",
       "      <td>-13.630769</td>\n",
       "    </tr>\n",
       "    <tr>\n",
       "      <th>...</th>\n",
       "      <td>...</td>\n",
       "      <td>...</td>\n",
       "      <td>...</td>\n",
       "    </tr>\n",
       "    <tr>\n",
       "      <th>57210</th>\n",
       "      <td>13.0</td>\n",
       "      <td>73.181818</td>\n",
       "      <td>-60.181818</td>\n",
       "    </tr>\n",
       "    <tr>\n",
       "      <th>57211</th>\n",
       "      <td>166.0</td>\n",
       "      <td>162.479167</td>\n",
       "      <td>3.520833</td>\n",
       "    </tr>\n",
       "    <tr>\n",
       "      <th>57212</th>\n",
       "      <td>72.0</td>\n",
       "      <td>63.511364</td>\n",
       "      <td>8.488636</td>\n",
       "    </tr>\n",
       "    <tr>\n",
       "      <th>57213</th>\n",
       "      <td>164.0</td>\n",
       "      <td>66.230769</td>\n",
       "      <td>97.769231</td>\n",
       "    </tr>\n",
       "    <tr>\n",
       "      <th>57214</th>\n",
       "      <td>172.0</td>\n",
       "      <td>185.375000</td>\n",
       "      <td>-13.375000</td>\n",
       "    </tr>\n",
       "  </tbody>\n",
       "</table>\n",
       "<p>57215 rows × 3 columns</p>\n",
       "</div>"
      ],
      "text/plain": [
       "        Real      Modelo  Diferencia\n",
       "0       60.0   63.092593   -3.092593\n",
       "1      113.0  112.555556    0.444444\n",
       "2        3.0   10.444444   -7.444444\n",
       "3      121.0  102.344262   18.655738\n",
       "4       49.0   62.630769  -13.630769\n",
       "...      ...         ...         ...\n",
       "57210   13.0   73.181818  -60.181818\n",
       "57211  166.0  162.479167    3.520833\n",
       "57212   72.0   63.511364    8.488636\n",
       "57213  164.0   66.230769   97.769231\n",
       "57214  172.0  185.375000  -13.375000\n",
       "\n",
       "[57215 rows x 3 columns]"
      ]
     },
     "execution_count": 25,
     "metadata": {},
     "output_type": "execute_result"
    }
   ],
   "source": [
    "resultsDT"
   ]
  },
  {
   "cell_type": "markdown",
   "metadata": {},
   "source": [
    "# Deep Learning"
   ]
  },
  {
   "cell_type": "markdown",
   "metadata": {},
   "source": [
    "Aplicaremos una red neuronal al mismo problema "
   ]
  },
  {
   "cell_type": "code",
   "execution_count": 26,
   "metadata": {},
   "outputs": [
    {
     "name": "stderr",
     "output_type": "stream",
     "text": [
      "Using TensorFlow backend.\n"
     ]
    }
   ],
   "source": [
    "from keras import Sequential\n",
    "from keras.layers import Activation,Dense"
   ]
  },
  {
   "cell_type": "code",
   "execution_count": 27,
   "metadata": {},
   "outputs": [],
   "source": [
    "X = train_A.drop('TOTAL',axis=1)\n",
    "y = train_A['TOTAL']\n"
   ]
  },
  {
   "cell_type": "code",
   "execution_count": 31,
   "metadata": {},
   "outputs": [],
   "source": [
    "model = Sequential()"
   ]
  },
  {
   "cell_type": "code",
   "execution_count": 32,
   "metadata": {},
   "outputs": [],
   "source": [
    "model.add(Dense(128,input_dim=26,activation='relu'))\n",
    "\n",
    "model.add(Dense(256,activation='relu'))\n",
    "model.add(Dense(256,activation='relu'))\n",
    "model.add(Dense(256,activation='relu'))\n",
    "\n",
    "model.add(Dense(1,activation='linear'))\n",
    "\n",
    "model.compile(loss='mean_squared_error',optimizer='adam',metrics=['mean_squared_error'])\n"
   ]
  },
  {
   "cell_type": "code",
   "execution_count": 33,
   "metadata": {},
   "outputs": [
    {
     "name": "stdout",
     "output_type": "stream",
     "text": [
      "Train on 463438 samples, validate on 51494 samples\n",
      "Epoch 1/10\n",
      "463438/463438 [==============================] - 27s 59us/step - loss: 1471.9001 - mean_squared_error: 1471.9001 - val_loss: 1349.3000 - val_mean_squared_error: 1349.3000\n",
      "Epoch 2/10\n",
      "463438/463438 [==============================] - 27s 58us/step - loss: 1337.6238 - mean_squared_error: 1337.6238 - val_loss: 1319.6295 - val_mean_squared_error: 1319.6295\n",
      "Epoch 3/10\n",
      "463438/463438 [==============================] - 25s 55us/step - loss: 1310.0854 - mean_squared_error: 1310.0854 - val_loss: 1292.6942 - val_mean_squared_error: 1292.6942\n",
      "Epoch 4/10\n",
      "463438/463438 [==============================] - 27s 58us/step - loss: 1294.2117 - mean_squared_error: 1294.2117 - val_loss: 1288.5086 - val_mean_squared_error: 1288.5086\n",
      "Epoch 5/10\n",
      "463438/463438 [==============================] - 27s 58us/step - loss: 1281.2303 - mean_squared_error: 1281.2303 - val_loss: 1266.6618 - val_mean_squared_error: 1266.6618\n",
      "Epoch 6/10\n",
      "463438/463438 [==============================] - 27s 58us/step - loss: 1269.1502 - mean_squared_error: 1269.1502 - val_loss: 1285.6823 - val_mean_squared_error: 1285.6823\n",
      "Epoch 7/10\n",
      "463438/463438 [==============================] - 26s 56us/step - loss: 1260.9451 - mean_squared_error: 1260.9451 - val_loss: 1257.8226 - val_mean_squared_error: 1257.8226\n",
      "Epoch 8/10\n",
      "463438/463438 [==============================] - 26s 57us/step - loss: 1252.8380 - mean_squared_error: 1252.8380 - val_loss: 1256.0808 - val_mean_squared_error: 1256.0808\n",
      "Epoch 9/10\n",
      "463438/463438 [==============================] - 27s 59us/step - loss: 1245.5206 - mean_squared_error: 1245.5206 - val_loss: 1240.3940 - val_mean_squared_error: 1240.3940\n",
      "Epoch 10/10\n",
      "463438/463438 [==============================] - 27s 58us/step - loss: 1240.1267 - mean_squared_error: 1240.1267 - val_loss: 1257.6312 - val_mean_squared_error: 1257.6312\n"
     ]
    },
    {
     "data": {
      "text/plain": [
       "<keras.callbacks.History at 0x2aa3f8b4e80>"
      ]
     },
     "execution_count": 33,
     "metadata": {},
     "output_type": "execute_result"
    }
   ],
   "source": [
    "model.fit(X,y,validation_split=0.1,epochs=10)"
   ]
  },
  {
   "cell_type": "code",
   "execution_count": 34,
   "metadata": {},
   "outputs": [],
   "source": [
    "X = test_A.drop('TOTAL',axis=1)\n",
    "y = test_A['TOTAL']"
   ]
  },
  {
   "cell_type": "code",
   "execution_count": 35,
   "metadata": {},
   "outputs": [],
   "source": [
    "y_pred = model.predict(X)"
   ]
  },
  {
   "cell_type": "code",
   "execution_count": 36,
   "metadata": {},
   "outputs": [
    {
     "name": "stdout",
     "output_type": "stream",
     "text": [
      "1251.0215976990153\n"
     ]
    }
   ],
   "source": [
    "print(mean_squared_error(y,y_pred))"
   ]
  },
  {
   "cell_type": "code",
   "execution_count": 48,
   "metadata": {
    "scrolled": true
   },
   "outputs": [],
   "source": [
    "resultsDL =pd.DataFrame(y_pred).join(y)"
   ]
  },
  {
   "cell_type": "code",
   "execution_count": 53,
   "metadata": {},
   "outputs": [],
   "source": [
    "resultsDL.rename(columns={0:'Modelo','TOTAL':'Real'},inplace=True)"
   ]
  },
  {
   "cell_type": "code",
   "execution_count": 54,
   "metadata": {},
   "outputs": [],
   "source": [
    "resultsDL['dif'] = resultsDL['Real']-resultsDL['Modelo']"
   ]
  },
  {
   "cell_type": "code",
   "execution_count": 55,
   "metadata": {},
   "outputs": [
    {
     "data": {
      "text/html": [
       "<div>\n",
       "<style scoped>\n",
       "    .dataframe tbody tr th:only-of-type {\n",
       "        vertical-align: middle;\n",
       "    }\n",
       "\n",
       "    .dataframe tbody tr th {\n",
       "        vertical-align: top;\n",
       "    }\n",
       "\n",
       "    .dataframe thead th {\n",
       "        text-align: right;\n",
       "    }\n",
       "</style>\n",
       "<table border=\"1\" class=\"dataframe\">\n",
       "  <thead>\n",
       "    <tr style=\"text-align: right;\">\n",
       "      <th></th>\n",
       "      <th>Modelo</th>\n",
       "      <th>Real</th>\n",
       "      <th>dif</th>\n",
       "    </tr>\n",
       "  </thead>\n",
       "  <tbody>\n",
       "    <tr>\n",
       "      <th>0</th>\n",
       "      <td>71.772865</td>\n",
       "      <td>60.0</td>\n",
       "      <td>-11.772865</td>\n",
       "    </tr>\n",
       "    <tr>\n",
       "      <th>1</th>\n",
       "      <td>113.921402</td>\n",
       "      <td>113.0</td>\n",
       "      <td>-0.921402</td>\n",
       "    </tr>\n",
       "    <tr>\n",
       "      <th>2</th>\n",
       "      <td>12.480394</td>\n",
       "      <td>3.0</td>\n",
       "      <td>-9.480394</td>\n",
       "    </tr>\n",
       "    <tr>\n",
       "      <th>3</th>\n",
       "      <td>113.669640</td>\n",
       "      <td>121.0</td>\n",
       "      <td>7.330360</td>\n",
       "    </tr>\n",
       "    <tr>\n",
       "      <th>4</th>\n",
       "      <td>66.986938</td>\n",
       "      <td>49.0</td>\n",
       "      <td>-17.986938</td>\n",
       "    </tr>\n",
       "  </tbody>\n",
       "</table>\n",
       "</div>"
      ],
      "text/plain": [
       "       Modelo   Real        dif\n",
       "0   71.772865   60.0 -11.772865\n",
       "1  113.921402  113.0  -0.921402\n",
       "2   12.480394    3.0  -9.480394\n",
       "3  113.669640  121.0   7.330360\n",
       "4   66.986938   49.0 -17.986938"
      ]
     },
     "execution_count": 55,
     "metadata": {},
     "output_type": "execute_result"
    }
   ],
   "source": [
    "resultsDL.head()"
   ]
  },
  {
   "cell_type": "code",
   "execution_count": null,
   "metadata": {},
   "outputs": [],
   "source": []
  }
 ],
 "metadata": {
  "kernelspec": {
   "display_name": "Python 3",
   "language": "python",
   "name": "python3"
  },
  "language_info": {
   "codemirror_mode": {
    "name": "ipython",
    "version": 3
   },
   "file_extension": ".py",
   "mimetype": "text/x-python",
   "name": "python",
   "nbconvert_exporter": "python",
   "pygments_lexer": "ipython3",
   "version": "3.7.1"
  }
 },
 "nbformat": 4,
 "nbformat_minor": 2
}
